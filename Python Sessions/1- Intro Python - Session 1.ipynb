{
 "cells": [
  {
   "cell_type": "markdown",
   "id": "69701631",
   "metadata": {},
   "source": [
    "# 1. Introduction to Python"
   ]
  },
  {
   "cell_type": "markdown",
   "id": "0fdcb652",
   "metadata": {},
   "source": [
    "Python is a programming language.\n",
    "It is not a mathematics-oriented language in and of itself.\n",
    "It is a general-purpose language, meaning we can do pretty much what we want with it.\n",
    "\n",
    "[![Python](https://imgs.xkcd.com/comics/python.png)](https://xkcd.com/353/)\n",
    "\n",
    "Here is a (supershort) list of what humanity did with Python:\n",
    "\n",
    "- Dropbox (Source: [Dropbox Blog](https://blogs.dropbox.com/tech/2018/09/how-we-rolled-out-one-of-the-largest-python-3-migrations-ever/))\n",
    "- Image editing ([The GNU Image Manipulation Program](https://www.gimp.org/))\n",
    "- Vector graphics ([Inkscape](https://inkscape.org/))\n",
    "- 3D modeling ([Blender](https://www.blender.org/))\n",
    "- Desktop publishing ([Scribus](https://www.scribus.net/))\n",
    "- Web pages ([Reddit](https://www.reddit.com/), Source: [Reddit Blog](https://redditblog.com/2005/12/05/on-lisp/))\n",
    "\n",
    "Also in economics we have a great sites like [QuantEcon](https://quantecon.org) by **Prof. Sargent** and his team and you can find many economics models on it."
   ]
  },
  {
   "cell_type": "markdown",
   "id": "03b5c77a",
   "metadata": {},
   "source": [
    "# 2. How to work with the notebooks in colab/binder\n",
    "\n",
    "## Jupyter notebook:\n",
    "\n",
    "- notebook as a collection of cells\n",
    "- two main cell types: text (markdown) and code\n",
    "- click on a cell to edit the contents\n",
    "- Shift+Enter to run the code within a code cell or render the text cell\n",
    "- be aware of the execution order\n",
    "- installing necessary modules with pip and conda\n",
    "\n"
   ]
  },
  {
   "cell_type": "code",
   "execution_count": null,
   "id": "5fab24b4",
   "metadata": {},
   "outputs": [],
   "source": [
    "# hotkey"
   ]
  },
  {
   "cell_type": "code",
   "execution_count": null,
   "id": "1e627a20",
   "metadata": {},
   "outputs": [],
   "source": [
    "# markdown"
   ]
  },
  {
   "cell_type": "code",
   "execution_count": null,
   "id": "9a357b2f",
   "metadata": {},
   "outputs": [],
   "source": []
  },
  {
   "cell_type": "markdown",
   "id": "33305f0a",
   "metadata": {},
   "source": [
    "Every code line in Python is interpreted as a `command`, unless it starts\n",
    "with the hash/pound sign, in which case it is considered to be a `comment`:\n",
    "\n",
    "```\n",
    "# the line below will be executed\n",
    "1+1\n",
    "\n",
    "# the line below will not be executed\n",
    "# 1+2\n",
    "```"
   ]
  },
  {
   "cell_type": "code",
   "execution_count": null,
   "id": "298b6671",
   "metadata": {},
   "outputs": [],
   "source": []
  },
  {
   "cell_type": "code",
   "execution_count": null,
   "id": "a65d0fce",
   "metadata": {},
   "outputs": [],
   "source": []
  },
  {
   "cell_type": "markdown",
   "id": "9a1ffa21",
   "metadata": {},
   "source": [
    "# 3. The Basics\n",
    "\n",
    "Python alone cannot do much.\n",
    "For this reason, we are almost always going to work with a package (It will be taught in future sessions).\n",
    "However, it is fundamental to understand the basics.\n",
    "This involves familiarizing with the _syntax_ and with the basic _data types_.\n",
    "\n",
    "Syntax is the set of rules that govern writing code.\n",
    "This includes how to write an _assignment_ (providing a variable with a value), how to call functions and how to access items in a iterable object (e.g., lists, arrays).\n",
    "It also includes _code blocks,_ which execute conditionally on a given rule (e.g., `if`, `while`).\n",
    "\n"
   ]
  },
  {
   "cell_type": "code",
   "execution_count": null,
   "id": "55bc8592",
   "metadata": {},
   "outputs": [],
   "source": []
  },
  {
   "cell_type": "markdown",
   "id": "9a9b1a8a",
   "metadata": {},
   "source": [
    "## 3.1 Arithmetic operations and variables\n",
    "\n",
    "Let's start with basic calculations in Python. Entering some arithmetic operation in the code cell below (e.g. `2+2`):\n",
    "\n",
    "<br><center> <b>Arithmetic Operators<b> <center>\n",
    "<br>\n",
    "\n",
    "| Symbol | Task Performed | Description| Example<br> (a = 10 & b = 20) |\n",
    "|:----:|:---:|:---:|:---:| \n",
    "| +  | Addition | Adds values on either side of the operator. | a + b = 30\n",
    "| -  | Subtraction | Subtracts right hand operand from left hand operand. | a – b = -10\n",
    "| /  | division | Divides left hand operand by right hand operand | b / a = 2\n",
    "| %  | mod | Divides left hand operand by right hand operand and returns remainder | b % a = 0\n",
    "| *  | multiplication | Multiplies values on either side of the operator | a * b = 200\n",
    "| //  | floor division | he division of operands where the result is the quotient in<br> which the digits after the decimal point are removed. | b // a = 2\n",
    "| **  | to the power of | Performs exponential (power) calculation on operators | a**b =$10^{20}$"
   ]
  },
  {
   "cell_type": "code",
   "execution_count": null,
   "id": "4449f441",
   "metadata": {},
   "outputs": [],
   "source": []
  },
  {
   "cell_type": "code",
   "execution_count": null,
   "id": "cac9534d",
   "metadata": {},
   "outputs": [],
   "source": []
  },
  {
   "cell_type": "markdown",
   "id": "7e3d77ed",
   "metadata": {},
   "source": [
    "As with many programming languages, we are defining variables and changing their values all the time in Python.\n",
    "We can create a variable simply by inventing a name and assigning a value to it, like the following.\n",
    "\n",
    "To store the results of a calculation in a `variable` we can use `=` sign.\n",
    "\n",
    "```python\n",
    "sample_number = 2 + 3\n",
    "```\n",
    "\n",
    "When working inside the notebooks, we can see the result of the last executed command\n",
    "or a `variable`. For example, what do you see when you type the code below in a blank cell?\n",
    "\n",
    "```\n",
    "sample_number\n",
    "```"
   ]
  },
  {
   "cell_type": "code",
   "execution_count": null,
   "id": "92f902df",
   "metadata": {},
   "outputs": [],
   "source": []
  },
  {
   "cell_type": "code",
   "execution_count": null,
   "id": "52a980b1",
   "metadata": {},
   "outputs": [],
   "source": []
  },
  {
   "cell_type": "markdown",
   "id": "a0658b3a",
   "metadata": {},
   "source": [
    "Later in the code we can re-use this variable, check what is the output of this command:\n",
    "\n",
    "```python\n",
    "sample_number + 1\n",
    "```"
   ]
  },
  {
   "cell_type": "code",
   "execution_count": null,
   "id": "b56a4f84",
   "metadata": {},
   "outputs": [],
   "source": []
  },
  {
   "cell_type": "code",
   "execution_count": null,
   "id": "66a846e4",
   "metadata": {},
   "outputs": [],
   "source": []
  },
  {
   "cell_type": "markdown",
   "id": "0dd8a2ce",
   "metadata": {},
   "source": [
    "## 3.2 Relational Operators\n",
    "\n",
    "Relational operators are used for comparing the values. It either returns **True** or **False** according to the condition. These operators are also known as Comparison Operators.\n",
    "\n",
    "| Symbol | Task Performed | Description|\n",
    "|:----:  |:---:|:---:| \n",
    "|=\t     |Assignment| Assigns values from right side operands to left side operand\n",
    "|==      |True, if it is equal| If the values of two operands are equal, then the condition becomes true.|\n",
    "|!=      |True, if not equal to| If values of two operands are not equal, then condition becomes true.|\n",
    "|<\t     |less than| If the value of left operand is less than the value of right operand,<br> then condition becomes true.\n",
    "|>\t     |greater than| If the value of left operand is greater than the value of right operand, <br>then condition becomes true.\n",
    "|<=      |less than or equal to| If the value of left operand is less than or equal to the value of right operand,<br> then condition becomes true.\n",
    "|>=      |greater than or equal to|If the value of left operand is greater than or equal to the value of right operand, <br>then condition becomes true."
   ]
  },
  {
   "cell_type": "code",
   "execution_count": null,
   "id": "de34b44a",
   "metadata": {},
   "outputs": [],
   "source": []
  },
  {
   "cell_type": "code",
   "execution_count": null,
   "id": "0dde8d67",
   "metadata": {},
   "outputs": [],
   "source": []
  },
  {
   "cell_type": "markdown",
   "id": "15b2e0c5",
   "metadata": {},
   "source": [
    "## 3.3 Type\n",
    "\n",
    "Now we have a variable whose name is `a` and its value is `1`.\n",
    "This variable has a _type_, which is the kind of value it contains.\n",
    "In particular, `1` is an integer, whose type is represented in Python with the keyword `int`.\n",
    "Understanding that variables can be of different types is important, because the type defines what we can do with that variable.\n",
    "We can ask Python to tell us the type of a variable by using the `type()` function.\n",
    "\n",
    "Data types are the types of variables we can create.\n",
    "Python defines a few basic ones and packages (see below) provide new data types.\n",
    "This programming language features _dynamic typing_, which means that we do not have to define what a variable can be.\n",
    "Instead, Python infers the type of a variable when we create it.\n",
    "Examples of basic data types are strings (`str`), lists (`list`), integer numbers (`int`).\n",
    "<br><br>\n",
    "\n",
    "| Types | Example |\n",
    "| :--: | :--: |\n",
    "| string | \"Hello\" ,  'World' |\n",
    "| integer | 1 , 2 , 3 |\n",
    "| float | 1.2 , 4.6 , 112.6 |\n",
    "| boolian | True , Flase |\n",
    "|list | [1, 2, 3, 'python', 9, 7] |\n",
    "| dictionary | {'Python': 18 , \"Econ\": 20}\n",
    "\n"
   ]
  },
  {
   "cell_type": "code",
   "execution_count": null,
   "id": "5f9c68e8",
   "metadata": {},
   "outputs": [],
   "source": []
  },
  {
   "cell_type": "code",
   "execution_count": null,
   "id": "2fcbe228",
   "metadata": {},
   "outputs": [],
   "source": []
  },
  {
   "cell_type": "markdown",
   "id": "6f7f0875",
   "metadata": {},
   "source": [
    "### 3.3.1 Text (`str`)\n",
    "\n",
    "A basic object in Python is text.\n",
    "This is formally represented with a `str` object.\n",
    "Strings are denoted either with single or double quotes, and the choice between them is a matter of taste."
   ]
  },
  {
   "cell_type": "code",
   "execution_count": null,
   "id": "c49f5f80",
   "metadata": {},
   "outputs": [],
   "source": []
  },
  {
   "cell_type": "code",
   "execution_count": null,
   "id": "0262e6ae",
   "metadata": {},
   "outputs": [],
   "source": []
  },
  {
   "cell_type": "markdown",
   "id": "af5fa918",
   "metadata": {},
   "source": [
    "There must always be consistency between opening a closing quotes. This means that single quotes can only close single quotes and double quotes can only close double quotes."
   ]
  },
  {
   "cell_type": "code",
   "execution_count": null,
   "id": "24f8345c",
   "metadata": {},
   "outputs": [],
   "source": []
  },
  {
   "cell_type": "code",
   "execution_count": null,
   "id": "55ef10cb",
   "metadata": {},
   "outputs": [],
   "source": []
  },
  {
   "cell_type": "markdown",
   "id": "8d3d5bab",
   "metadata": {},
   "source": [
    "### 3.3.2 Numbers (`int` and a`float`)\n",
    "\n",
    "We already encountered integer numbers, whose type is `int`.\n",
    "Another numerical type we are going to use very often is `float`.\n",
    "This essentially is a non-integer real number, although the inner workings of [floating-point numbers](https://en.wikipedia.org/wiki/Floating-point_arithmetic) are more complicated.\n",
    "We can initialize a variable to be of type `float` by simply assigning a decimal number to a variable."
   ]
  },
  {
   "cell_type": "code",
   "execution_count": null,
   "id": "f79126d5",
   "metadata": {},
   "outputs": [],
   "source": []
  },
  {
   "cell_type": "markdown",
   "id": "9d9b408c",
   "metadata": {},
   "source": [
    "This works even when the digit on the right of the decimal point is non significant.\n",
    "The simple fact that we typed a period in the number tells Python that we want to work with floating point numbers."
   ]
  },
  {
   "cell_type": "code",
   "execution_count": null,
   "id": "84c9ade8",
   "metadata": {},
   "outputs": [],
   "source": []
  },
  {
   "cell_type": "markdown",
   "id": "60970c04",
   "metadata": {},
   "source": [
    "Both `int` and `float` variables support conventional arithmetic operations, such as addition (`+`), subtraction (`-`), multiplication (`*`), division (`/`) and raise to power (`**`).\n",
    "\n",
    "Other operations that might be handy are floor division (`//`) and the _mod_ operation (`%`).\n",
    "The former returns the largest integer smaller than the quotient, while the latter returns the remainder of floor division."
   ]
  },
  {
   "cell_type": "code",
   "execution_count": null,
   "id": "8193f1cf",
   "metadata": {},
   "outputs": [],
   "source": []
  },
  {
   "cell_type": "code",
   "execution_count": null,
   "id": "96627124",
   "metadata": {},
   "outputs": [],
   "source": []
  },
  {
   "cell_type": "markdown",
   "id": "24004966",
   "metadata": {},
   "source": [
    "### 3.3.3. Iterable objects (`list`, `dict` and `tuple`)\n",
    "\n",
    "Often we want to collect objects in arrays.\n",
    "The most basic example is a vector, which is an organized array of numbers.\n",
    "Python (mainly) provides three iterable objects.\n",
    "\n",
    "####  3.3.3.1 **List**\n",
    "\n",
    "\n",
    "We first look at **lists**.\n",
    "These are arrays of heterogeneous objects.\n",
    "They are created by collecting objects in square brackets.\n",
    "\n",
    "A list of objects is an odered collection of items, for example `['a', 'b', 'c', 'a', 123]`. Since\n",
    "lists are ordered, every item in the list has an associated index that starts with 0. This provides\n",
    "access to specific elements of the list by specifying their index. For example, 'b' in the list above has index `1`.\n",
    "The syntax for accessing a specific element is to provide its index in square brackets, e.g. `sample_list[1]`.\n",
    "\n",
    "There are no restriction on the contents of the list, they can contain repeated values\n",
    "(e.g. 'a' in the list above) or they can contain different data types (e.g. strings and integers in the list above).\n",
    "\n"
   ]
  },
  {
   "cell_type": "code",
   "execution_count": null,
   "id": "3b54cc76",
   "metadata": {},
   "outputs": [],
   "source": []
  },
  {
   "cell_type": "code",
   "execution_count": null,
   "id": "19c8e080",
   "metadata": {},
   "outputs": [],
   "source": []
  },
  {
   "cell_type": "markdown",
   "id": "40ecf340",
   "metadata": {},
   "source": [
    "Lists can also nest."
   ]
  },
  {
   "cell_type": "code",
   "execution_count": null,
   "id": "0dd6a3c3",
   "metadata": {},
   "outputs": [],
   "source": []
  },
  {
   "cell_type": "markdown",
   "id": "abaf0637",
   "metadata": {},
   "source": [
    "We can access the contents of any iterable object using square brackets."
   ]
  },
  {
   "cell_type": "code",
   "execution_count": null,
   "id": "a7fb3386",
   "metadata": {},
   "outputs": [],
   "source": []
  },
  {
   "cell_type": "code",
   "execution_count": null,
   "id": "edc9d014",
   "metadata": {},
   "outputs": [],
   "source": []
  },
  {
   "cell_type": "markdown",
   "id": "40abbe7b",
   "metadata": {},
   "source": [
    "Sometimes we want to use sequences inside a list, e.g. all items from start until the third item.\n",
    "For this we can use the slicing notation:\n",
    "```\n",
    "[start:stop:step_size]\n",
    "```\n",
    "\n",
    "If `start` is missing, the assumption is to start from 0, if `stop` is missing the assumption\n",
    "is to run up to and including the last item. If `step_size` is missing then iteration\n",
    "will go over all items between `start` and `stop`. \n",
    "\n",
    "Specifying `step_size` will display every `step_size`'th item, e.g. `[::2]` will display every second\n",
    "item starting from the first item. Note that specifying a negative number will reverse the order in which items in the list are\n",
    "displayed. "
   ]
  },
  {
   "cell_type": "code",
   "execution_count": null,
   "id": "5da1e7ef",
   "metadata": {},
   "outputs": [],
   "source": []
  },
  {
   "cell_type": "code",
   "execution_count": null,
   "id": "38a19d31",
   "metadata": {},
   "outputs": [],
   "source": []
  },
  {
   "cell_type": "markdown",
   "id": "e6a6d19a",
   "metadata": {},
   "source": [
    "- With `.append()`, you can add items to the end of an existing list object. However, you need to keep in mind that .append() adds only a single item or object at a time:"
   ]
  },
  {
   "cell_type": "code",
   "execution_count": null,
   "id": "54e01e4d",
   "metadata": {},
   "outputs": [],
   "source": []
  },
  {
   "cell_type": "code",
   "execution_count": null,
   "id": "00ed9d09",
   "metadata": {},
   "outputs": [],
   "source": []
  },
  {
   "cell_type": "markdown",
   "id": "5dbb316f",
   "metadata": {},
   "source": [
    "- The `.extend()` method adds all the elements of an iterable (list, tuple, string etc.) to the end of the list."
   ]
  },
  {
   "cell_type": "code",
   "execution_count": null,
   "id": "c5d0c15d",
   "metadata": {},
   "outputs": [],
   "source": []
  },
  {
   "cell_type": "code",
   "execution_count": null,
   "id": "82185c1f",
   "metadata": {},
   "outputs": [],
   "source": []
  },
  {
   "cell_type": "markdown",
   "id": "389648b2",
   "metadata": {},
   "source": [
    "- The `.index()` method returns the index of the specified element in the list.\n",
    "```python\n",
    "list.insert(i, elm)\n",
    "```\n",
    "Here, `elem` is inserted to the list at the $i^{th}$ index. All the elements after `elem` are shifted to the right."
   ]
  },
  {
   "cell_type": "code",
   "execution_count": null,
   "id": "1069e906",
   "metadata": {},
   "outputs": [],
   "source": []
  },
  {
   "cell_type": "code",
   "execution_count": null,
   "id": "b7c4819e",
   "metadata": {},
   "outputs": [],
   "source": []
  },
  {
   "cell_type": "markdown",
   "id": "c9dde360",
   "metadata": {},
   "source": [
    "- We have two methods (`.remove()` and `.pop()`) to delete elements in out lists.<br>\n",
    "The `.remove(item)` method removes the first matching element (which is passed as an argument) from the list.  \n",
    "The `.pop(index)` method removes the item at the given index from the list and returns the removed item."
   ]
  },
  {
   "cell_type": "code",
   "execution_count": null,
   "id": "b587c8d1",
   "metadata": {},
   "outputs": [],
   "source": []
  },
  {
   "cell_type": "code",
   "execution_count": null,
   "id": "3d7d6e22",
   "metadata": {},
   "outputs": [],
   "source": []
  },
  {
   "cell_type": "markdown",
   "id": "2ab8efbd",
   "metadata": {},
   "source": [
    "- The `.reverse()` method reverses the elements of the list."
   ]
  },
  {
   "cell_type": "code",
   "execution_count": null,
   "id": "1bdb8935",
   "metadata": {},
   "outputs": [],
   "source": []
  },
  {
   "cell_type": "markdown",
   "id": "f585836a",
   "metadata": {},
   "source": [
    "- The `.sort()` method sorts the items of a list in ascending or descending order.<br>\n",
    "The `.sort()` method accepts a reverse parameter as an optional argument.  \n",
    "    - Setting `reverse = True` sorts the list in the descending order.\n"
   ]
  },
  {
   "cell_type": "code",
   "execution_count": null,
   "id": "92a55fac",
   "metadata": {},
   "outputs": [],
   "source": [
    "x = [1,2,3,4,10,3,54,-34]\n"
   ]
  },
  {
   "cell_type": "code",
   "execution_count": null,
   "id": "00c6505b",
   "metadata": {},
   "outputs": [],
   "source": []
  },
  {
   "cell_type": "markdown",
   "id": "e1eab3a7",
   "metadata": {},
   "source": [
    "####  3.3.3.2 **Dictionary**\n",
    "\n",
    "Finally, we have **dictionaries**.\n",
    "These are essentially lists, with the difference that each element is assigned to a _key_.\n",
    "We create dictionaries using curly braces.\n",
    "\n",
    "\n",
    "`Dictionary` is a data type that contains a combination of key-value items, for example:\n",
    "\n",
    "```python\n",
    "sample_dictionary = dict(math=19, econ=20, physics=16, geology=14)\n",
    "sample_dictionary_alt = {'math' =19, 'econ'= 20, 'physics'= 16, 'geology'= 14}\n",
    "print(sample_dictionary, sample_dictionary_alt)\n",
    "```\n",
    "\n",
    "Once a dictionary is defined we can access specific values by using relevant key, specifying\n",
    "it in square brackets, for example:\n",
    "\n",
    "```python\n",
    "print(sample_dictionary['econ'])\n",
    "```\n",
    "\n",
    "We can use a similar notation to add new key/value pairs to the dictionary:\n",
    "\n",
    "```python\n",
    "sample_dictionary['python'] = True\n",
    "print(sample_dictionary)\n",
    "```"
   ]
  },
  {
   "cell_type": "code",
   "execution_count": null,
   "id": "26ef60d0",
   "metadata": {},
   "outputs": [],
   "source": []
  },
  {
   "cell_type": "code",
   "execution_count": null,
   "id": "46f655f9",
   "metadata": {},
   "outputs": [],
   "source": []
  },
  {
   "cell_type": "markdown",
   "id": "81fc1e44",
   "metadata": {},
   "source": [
    "<font size=\"3\"><br>**Exercise:** <br>Write a program that gets ’c’, ’m’ and ’p’ characters from the list below and adds it to the beginning of my_course. (Make sure that ’c’, ’m’ and ’p’ are uppercase) <br>\n",
    "\n",
    "~~~\n",
    "my_list = [\"c\" , \"o\" , \"m\" , \"p\" , \"u\" , \"t\", \"e\" , \"r\"]\n",
    "my_course = \"(Python for Economics)\"\n",
    "\n",
    "~~~\n",
    "<br>\n",
    "<font size=\"3\"> The final output is as follows: \"CMP(Python for Economics)\""
   ]
  },
  {
   "cell_type": "code",
   "execution_count": null,
   "id": "cc3d31de",
   "metadata": {},
   "outputs": [],
   "source": [
    "my_list = ['c' , 'o' , 'm' , 'p' , 'u' , 't', 'e', 'r']\n",
    "my_course = \"(Python for Economics)\""
   ]
  },
  {
   "cell_type": "code",
   "execution_count": null,
   "id": "c3fe462f",
   "metadata": {},
   "outputs": [],
   "source": []
  },
  {
   "cell_type": "markdown",
   "id": "2704fbbf",
   "metadata": {},
   "source": [
    "# 4. Control flow (Loop, Conditional Control)\n",
    "\n",
    "<img src = \"https://github.com/saeed-saffari/alzahra-workshop-spr2021/blob/main/lecture/PIC/Loops-in-Python.png?raw=true\" width = 600 >\n",
    "\n",
    "\n",
    "Control flow is the set of techniques that allows us to manage the way code is executed.\n",
    "For example, you might want to execute some code provided a certain condition is `True`.\n",
    "Or you might want to repeat a certain action a given number of times.\n",
    "Or, again, you might want to run code as long as a condition is `True`, but you do not know how many times the code should be executed before the condition turns `True`.\n",
    "\n",
    "The three examples are managed by the statements [`if`](https://docs.python.org/3/reference/compound_stmts.html#the-if-statement), [`for`](https://docs.python.org/3/reference/compound_stmts.html#the-for-statement) and [`while`](https://docs.python.org/3/reference/compound_stmts.html#the-while-statement).\n",
    "Here we see basic applications, just to convey the idea.\n",
    "We should keep in mind two things when working with control flow statements:\n",
    "- The control flow statement has to be on a line that end with a semicolon (`:`).\n",
    "- The code block following the control flow statements has to be indented with four whitespaces.\n",
    "\n",
    "The `if` and `while` statements work provided that a certain condition holds.\n",
    "Such condition is a boolean value that is either `True` or `False`.\n",
    "Python supports boolean arithmetics with the keywords `and`, `or` and `not`.\n",
    "\n",
    "The `if` statement can be expanded to the `if`-`elif`-`else`.\n",
    "\n",
    "\n",
    "## 4.1 Loops\n",
    "When working with collections (`lists`, `sets`, `dictionaries`, etc.) it is possible\n",
    "to operate on every item using a loop.\n",
    "\n",
    "Defining a loop requires an iterable (in our example it is `sample_list`), which \n",
    "could be `list`, `tuple`, `set` or any other object that supports iteration. By\n",
    "specifying `item` we are asking python to iterate over one element of the list \n",
    "at a time, storing this element in a variable called `item`. \n",
    "\n",
    "Operations that should be perfomed within the loop must be idented (typically with\n",
    "four leading spaces, but some use tabs, two spaces, or some other identation). Also\n",
    "note the colon `:` at the end of the `for` statement.\n",
    "\n",
    "\n",
    "### 4.1.1 for\n",
    "The simplest loop is `for` loop, with the following syntax:\n",
    "\n",
    "```python\n",
    "sample_list = [1, 4, 7, 10]\n",
    "for item in sample_list:\n",
    "    print(item)\n",
    "```"
   ]
  },
  {
   "cell_type": "code",
   "execution_count": null,
   "id": "38e14e20",
   "metadata": {},
   "outputs": [],
   "source": []
  },
  {
   "cell_type": "code",
   "execution_count": null,
   "id": "b445792c",
   "metadata": {},
   "outputs": [],
   "source": []
  },
  {
   "cell_type": "code",
   "execution_count": null,
   "id": "4fb745dd",
   "metadata": {},
   "outputs": [],
   "source": []
  },
  {
   "cell_type": "markdown",
   "id": "3511b45d",
   "metadata": {},
   "source": [
    "### 4.1.2 while\n",
    "Python `While` Loop is used to execute a block of statements repeatedly until a given condition is satisfied. And when the condition becomes false, the line immediately after the loop in the program is executed. While loop falls under the category of indefinite iteration. Indefinite iteration means that the number of times the loop is executed isn’t specified explicitly in advance. \n",
    "\n",
    "<img src = \"https://github.com/saeed-saffari/alzahra-workshop-spr2021/blob/main/lecture/PIC/Looping.jpg?raw=true\">"
   ]
  },
  {
   "cell_type": "code",
   "execution_count": null,
   "id": "95d573be",
   "metadata": {},
   "outputs": [],
   "source": []
  },
  {
   "cell_type": "code",
   "execution_count": null,
   "id": "ee7a6fdb",
   "metadata": {},
   "outputs": [],
   "source": []
  },
  {
   "cell_type": "code",
   "execution_count": null,
   "id": "826c35e7",
   "metadata": {},
   "outputs": [],
   "source": []
  },
  {
   "cell_type": "markdown",
   "id": "9e237961",
   "metadata": {},
   "source": [
    "## 4.2 Conditional Control (if, elif, else)\n",
    "\n",
    "<img src = \"https://github.com/saeed-saffari/alzahra-workshop-spr2021/blob/main/lecture/PIC/if-else.jpg?raw=true\" width = \"700\">\n",
    "\n",
    "If execution of command should depend on some condition, then we can use `if/else` syntax:\n",
    "\n",
    "```python\n",
    "if some_condition:\n",
    "    # run code here\n",
    "elif some_other_condition:\n",
    "    # run code here\n",
    "else:\n",
    "    # run code here\n",
    "```\n",
    "\n"
   ]
  },
  {
   "cell_type": "code",
   "execution_count": null,
   "id": "db25102f",
   "metadata": {},
   "outputs": [],
   "source": []
  },
  {
   "cell_type": "code",
   "execution_count": null,
   "id": "64f0fca3",
   "metadata": {},
   "outputs": [],
   "source": []
  },
  {
   "cell_type": "code",
   "execution_count": null,
   "id": "ebd4d4f9",
   "metadata": {},
   "outputs": [],
   "source": []
  },
  {
   "cell_type": "markdown",
   "id": "e5b013ff",
   "metadata": {},
   "source": [
    "<font size=\"3\"><br>**Exercise:** <br>With run below command, create a list with 15 random numbers between 1 and 100. Then write a program that prints separate lists of odd and even numbers. <br>\n",
    "\n",
    "~~~\n",
    "import random\n",
    "list_1 = random.sample(range(1, 100), 15)\n",
    "\n",
    "~~~"
   ]
  },
  {
   "cell_type": "code",
   "execution_count": null,
   "id": "62a1c012",
   "metadata": {},
   "outputs": [],
   "source": []
  },
  {
   "cell_type": "code",
   "execution_count": null,
   "id": "ae4797b4",
   "metadata": {},
   "outputs": [],
   "source": []
  },
  {
   "cell_type": "code",
   "execution_count": null,
   "id": "1fbba5f2",
   "metadata": {},
   "outputs": [],
   "source": []
  },
  {
   "cell_type": "markdown",
   "id": "a5f126b6",
   "metadata": {},
   "source": [
    "# 5. Functions (`def` and `lambda`)\n",
    "\n",
    "## 5.1 Functions (def)\n",
    "\n",
    "<img src = \"https://github.com/saeed-saffari/alzahra-workshop-spr2021/blob/main/lecture/PIC/python-functions.gif?raw=true\" width = 750>\n",
    "\n",
    "You might have noticed so far that Python is rather limited as a programming language.\n",
    "This is because Python is a general-purpose language: it should be flexible enough for everybody to achieve their goals, but it cannot afford to be a BIG library of code.\n",
    "\n",
    "\n",
    "We can define a new function by using the `def` keyword, listing arguments in round parentheses.\n",
    "Also, if we want the function to give back something, we should explicitly instruct Python to do so with the `return` keyword.\n",
    "\n",
    "**General structure:**\n",
    "```python\n",
    "def function_name(parameters):\n",
    "    \"\"\" codes \"\"\"\n",
    "    statement(s)\n",
    "```\n"
   ]
  },
  {
   "cell_type": "code",
   "execution_count": null,
   "id": "c83565f5",
   "metadata": {},
   "outputs": [],
   "source": []
  },
  {
   "cell_type": "code",
   "execution_count": null,
   "id": "e5ef4e49",
   "metadata": {},
   "outputs": [],
   "source": []
  },
  {
   "cell_type": "markdown",
   "id": "3cd39696",
   "metadata": {},
   "source": [
    "For example, Python does not know what a square root of a number is.\n",
    "While we can always rely on the fact that $\\sqrt[n]{x} = x^{1/n}$, it might be useful to define a dedicated function that does the job.\n",
    "In this example, defining a function improves code readability."
   ]
  },
  {
   "cell_type": "code",
   "execution_count": null,
   "id": "fbc29e77",
   "metadata": {},
   "outputs": [],
   "source": []
  },
  {
   "cell_type": "markdown",
   "id": "78610d2e",
   "metadata": {},
   "source": [
    "Here we defined the square-root function.\n",
    "As it is, this function works for all values of $x$, even negative ones (the result will be a complex number).\n",
    "\n",
    "Again, note that the `def` statement ends with a semicolon (`:`) and any code that belongs to the function is indented with respect to the line containing the keyword `def`."
   ]
  },
  {
   "cell_type": "code",
   "execution_count": null,
   "id": "9d6e9810",
   "metadata": {},
   "outputs": [],
   "source": []
  },
  {
   "cell_type": "markdown",
   "id": "d41929ef",
   "metadata": {},
   "source": [
    "An example of a slightly more sophisticated function is one that computes the real roots a (non-negative) number."
   ]
  },
  {
   "cell_type": "code",
   "execution_count": null,
   "id": "4cc0dd5d",
   "metadata": {},
   "outputs": [],
   "source": []
  },
  {
   "cell_type": "markdown",
   "id": "7217f2da",
   "metadata": {},
   "source": [
    "This function performs the so-called _input validation_.\n",
    "To ensure that the result of $\\sqrt[n]{x}$ is a real number, we must ensure that $x$ is non-negative.\n",
    "We do this with an `if` clause and instructing Python to terminate the execution of the function with a `raise` command, which issues an error.\n",
    "Also, the function we defined takes two arguments: `x` and `n`.\n",
    "By specifying `n=2` in the `def` statement, we are saying that the default value of $n$ should be two, but the user can change that value arbitrarily."
   ]
  },
  {
   "cell_type": "code",
   "execution_count": null,
   "id": "bfca64bd",
   "metadata": {},
   "outputs": [],
   "source": []
  },
  {
   "cell_type": "code",
   "execution_count": null,
   "id": "eb9099f9",
   "metadata": {},
   "outputs": [],
   "source": []
  },
  {
   "cell_type": "markdown",
   "id": "82f14432",
   "metadata": {},
   "source": [
    "### 5.1.1 Other example"
   ]
  },
  {
   "cell_type": "code",
   "execution_count": null,
   "id": "a4d0a382",
   "metadata": {},
   "outputs": [],
   "source": []
  },
  {
   "cell_type": "code",
   "execution_count": null,
   "id": "ac5eb83e",
   "metadata": {},
   "outputs": [],
   "source": []
  },
  {
   "cell_type": "code",
   "execution_count": null,
   "id": "3572f2c0",
   "metadata": {},
   "outputs": [],
   "source": []
  },
  {
   "cell_type": "markdown",
   "id": "f4cf38e9",
   "metadata": {},
   "source": [
    "**Guess number**"
   ]
  },
  {
   "cell_type": "code",
   "execution_count": null,
   "id": "cc291e9f",
   "metadata": {},
   "outputs": [],
   "source": []
  },
  {
   "cell_type": "code",
   "execution_count": null,
   "id": "36dd7baa",
   "metadata": {},
   "outputs": [],
   "source": []
  },
  {
   "cell_type": "code",
   "execution_count": null,
   "id": "3f5777b6",
   "metadata": {},
   "outputs": [],
   "source": []
  },
  {
   "cell_type": "markdown",
   "id": "eba9a50a",
   "metadata": {},
   "source": [
    "### 5.1.2 Diffrence between return and print"
   ]
  },
  {
   "cell_type": "code",
   "execution_count": null,
   "id": "37f7cbdf",
   "metadata": {},
   "outputs": [],
   "source": []
  },
  {
   "cell_type": "code",
   "execution_count": null,
   "id": "2c3d9259",
   "metadata": {},
   "outputs": [],
   "source": []
  },
  {
   "cell_type": "markdown",
   "id": "9a0fe74d",
   "metadata": {},
   "source": [
    "<font size=\"3\"><br>**Exercise:** <br>Write a program, which asks for initial value of investment ($k_0$) and for the interest rate ($r$). Use Function ($def$) to calculate capital after n years ($k_n$) <br>\n",
    "\n",
    " $$ k_n = k_0\\times(1 + r)^n $$"
   ]
  },
  {
   "cell_type": "code",
   "execution_count": null,
   "id": "31c351ad",
   "metadata": {},
   "outputs": [],
   "source": []
  },
  {
   "cell_type": "code",
   "execution_count": null,
   "id": "8ba14868",
   "metadata": {},
   "outputs": [],
   "source": []
  },
  {
   "cell_type": "code",
   "execution_count": null,
   "id": "c4d8f34c",
   "metadata": {},
   "outputs": [],
   "source": []
  },
  {
   "cell_type": "markdown",
   "id": "403e20fe",
   "metadata": {},
   "source": [
    "## 5.2 Functions (Lambda)\n",
    "\n",
    "Finally, a quick-and-dirty way to define functions is by using `lambda` functions, which are also known as [anonymous functions](https://en.wikipedia.org/wiki/Anonymous_function).\n",
    "The inner workings of anonymous functions are quite complicated and we will not cover them.\n",
    "Here it should suffice to know that these functions are defined _in-line_, which means that we do not write a code block for them.\n",
    "Anonymous functions are useful for quick one-liners that do not require much work.\n",
    "\n",
    "We can re-define the function `sqrt` above as an anonymous function."
   ]
  },
  {
   "cell_type": "code",
   "execution_count": null,
   "id": "5cd67e67",
   "metadata": {},
   "outputs": [],
   "source": []
  },
  {
   "cell_type": "markdown",
   "id": "54b0af1e",
   "metadata": {},
   "source": [
    "The syntax is as follows.\n",
    "The function `root2` takes an argument `x`, which is indicated right after the keyword `lambda`.\n",
    "There is a semicolon following the statment, after which we find the main task performed by the function we defined."
   ]
  },
  {
   "cell_type": "code",
   "execution_count": null,
   "id": "531b3c9b",
   "metadata": {},
   "outputs": [],
   "source": []
  },
  {
   "cell_type": "markdown",
   "id": "676e22a5",
   "metadata": {},
   "source": [
    "### 5.2.1 Other example"
   ]
  },
  {
   "cell_type": "code",
   "execution_count": null,
   "id": "3b3ae952",
   "metadata": {},
   "outputs": [],
   "source": []
  },
  {
   "cell_type": "code",
   "execution_count": null,
   "id": "0f37a800",
   "metadata": {},
   "outputs": [],
   "source": []
  },
  {
   "cell_type": "markdown",
   "id": "816678fb",
   "metadata": {},
   "source": [
    "<br>**Exercise:** <br>Suppose a labor works H hours in a month and gets \\$16 per hour.<b>\n",
    "\n",
    "- (a) Write a function that calculates income.<br>\n",
    "\n",
    "- (b) Then, If we have a fixed tax of \\$200, how to change income?\n",
    "    \n",
    "- (c) How about if our tax rate is \\$1.5 per hour?\n",
    "\n",
    "- (d) Write a program (function) that gets a H as working hours and compare the situation, and say will this labor work or not? And with which tax system will he(she) earn more?"
   ]
  },
  {
   "cell_type": "code",
   "execution_count": null,
   "id": "a9f26963",
   "metadata": {},
   "outputs": [],
   "source": []
  },
  {
   "cell_type": "code",
   "execution_count": null,
   "id": "8267a5c3",
   "metadata": {},
   "outputs": [],
   "source": []
  },
  {
   "cell_type": "code",
   "execution_count": null,
   "id": "ae085e8e",
   "metadata": {},
   "outputs": [],
   "source": []
  }
 ],
 "metadata": {
  "kernelspec": {
   "display_name": "Python 3 (ipykernel)",
   "language": "python",
   "name": "python3"
  },
  "language_info": {
   "codemirror_mode": {
    "name": "ipython",
    "version": 3
   },
   "file_extension": ".py",
   "mimetype": "text/x-python",
   "name": "python",
   "nbconvert_exporter": "python",
   "pygments_lexer": "ipython3",
   "version": "3.13.0"
  }
 },
 "nbformat": 4,
 "nbformat_minor": 5
}
