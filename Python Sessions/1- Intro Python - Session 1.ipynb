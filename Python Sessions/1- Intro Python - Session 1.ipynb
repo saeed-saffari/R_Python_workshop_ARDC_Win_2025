{
 "cells": [
  {
   "cell_type": "markdown",
   "id": "69701631",
   "metadata": {},
   "source": [
    "# 1. Introduction to Python"
   ]
  },
  {
   "cell_type": "markdown",
   "id": "0fdcb652",
   "metadata": {},
   "source": [
    "Python is a programming language.\n",
    "It is not a mathematics-oriented language in and of itself.\n",
    "It is a general-purpose language, meaning we can do pretty much what we want with it.\n",
    "\n",
    "[![Python](https://imgs.xkcd.com/comics/python.png)](https://xkcd.com/353/)\n",
    "\n",
    "Here is a (supershort) list of what humanity did with Python:\n",
    "\n",
    "- Dropbox (Source: [Dropbox Blog](https://blogs.dropbox.com/tech/2018/09/how-we-rolled-out-one-of-the-largest-python-3-migrations-ever/))\n",
    "- Image editing ([The GNU Image Manipulation Program](https://www.gimp.org/))\n",
    "- Vector graphics ([Inkscape](https://inkscape.org/))\n",
    "- 3D modeling ([Blender](https://www.blender.org/))\n",
    "- Desktop publishing ([Scribus](https://www.scribus.net/))\n",
    "- Web pages ([Reddit](https://www.reddit.com/), Source: [Reddit Blog](https://redditblog.com/2005/12/05/on-lisp/))\n",
    "\n",
    "Also in economics we have a great sites like [QuantEcon](https://quantecon.org) by **Prof. Sargent** and his team and you can find many economics models on it."
   ]
  },
  {
   "cell_type": "markdown",
   "id": "03b5c77a",
   "metadata": {},
   "source": [
    "# 2. How to work with the notebooks in colab/binder\n",
    "\n",
    "## Jupyter notebook:\n",
    "\n",
    "- notebook as a collection of cells\n",
    "- two main cell types: text (markdown) and code\n",
    "- click on a cell to edit the contents\n",
    "- Shift+Enter to run the code within a code cell or render the text cell\n",
    "- be aware of the execution order\n",
    "- installing necessary modules with pip and conda\n",
    "\n"
   ]
  },
  {
   "cell_type": "code",
   "execution_count": 7,
   "id": "8fa4c878",
   "metadata": {},
   "outputs": [
    {
     "data": {
      "text/plain": [
       "4"
      ]
     },
     "execution_count": 7,
     "metadata": {},
     "output_type": "execute_result"
    }
   ],
   "source": [
    "2 + 2"
   ]
  },
  {
   "cell_type": "code",
   "execution_count": 12,
   "id": "f00f6e8b",
   "metadata": {},
   "outputs": [
    {
     "data": {
      "text/plain": [
       "10"
      ]
     },
     "execution_count": 12,
     "metadata": {},
     "output_type": "execute_result"
    }
   ],
   "source": [
    "2 + 8"
   ]
  },
  {
   "cell_type": "code",
   "execution_count": null,
   "id": "5fab24b4",
   "metadata": {},
   "outputs": [],
   "source": [
    "# hotkey"
   ]
  },
  {
   "cell_type": "code",
   "execution_count": null,
   "id": "1e627a20",
   "metadata": {},
   "outputs": [],
   "source": [
    "# markdown"
   ]
  },
  {
   "cell_type": "markdown",
   "id": "e74af5b7",
   "metadata": {},
   "source": [
    "This is python course!"
   ]
  },
  {
   "cell_type": "markdown",
   "id": "c6cce7b5",
   "metadata": {},
   "source": [
    "$$ \\alpha = \\beta = \\frac{\\eta^ 3}{\\sqrt{\\delta}} $$"
   ]
  },
  {
   "cell_type": "markdown",
   "id": "33305f0a",
   "metadata": {},
   "source": [
    "Every code line in Python is interpreted as a `command`, unless it starts\n",
    "with the hash/pound sign, in which case it is considered to be a `comment`:\n",
    "\n",
    "```\n",
    "# the line below will be executed\n",
    "1+1\n",
    "\n",
    "# the line below will not be executed\n",
    "# 1+2\n",
    "```"
   ]
  },
  {
   "cell_type": "code",
   "execution_count": 13,
   "id": "298b6671",
   "metadata": {},
   "outputs": [],
   "source": [
    "r = 0.2 # interest rate"
   ]
  },
  {
   "cell_type": "code",
   "execution_count": 15,
   "id": "a65d0fce",
   "metadata": {},
   "outputs": [],
   "source": [
    "# 2 + 2 * 10"
   ]
  },
  {
   "cell_type": "markdown",
   "id": "9a1ffa21",
   "metadata": {},
   "source": [
    "# 3. The Basics\n",
    "\n",
    "Python alone cannot do much.\n",
    "For this reason, we are almost always going to work with a package (It will be taught in future sessions).\n",
    "However, it is fundamental to understand the basics.\n",
    "This involves familiarizing with the _syntax_ and with the basic _data types_.\n",
    "\n",
    "Syntax is the set of rules that govern writing code.\n",
    "This includes how to write an _assignment_ (providing a variable with a value), how to call functions and how to access items in a iterable object (e.g., lists, arrays).\n",
    "It also includes _code blocks,_ which execute conditionally on a given rule (e.g., `if`, `while`).\n",
    "\n"
   ]
  },
  {
   "cell_type": "markdown",
   "id": "9a9b1a8a",
   "metadata": {},
   "source": [
    "## 3.1 Arithmetic operations and variables\n",
    "\n",
    "Let's start with basic calculations in Python. Entering some arithmetic operation in the code cell below (e.g. `2+2`):\n",
    "\n",
    "<br><center> <b>Arithmetic Operators<b> <center>\n",
    "<br>\n",
    "\n",
    "| Symbol | Task Performed | Description| Example<br> (a = 10 & b = 20) |\n",
    "|:----:|:---:|:---:|:---:| \n",
    "| +  | Addition | Adds values on either side of the operator. | a + b = 30\n",
    "| -  | Subtraction | Subtracts right hand operand from left hand operand. | a – b = -10\n",
    "| /  | division | Divides left hand operand by right hand operand | b / a = 2\n",
    "| %  | mod | Divides left hand operand by right hand operand and returns remainder | b % a = 0\n",
    "| *  | multiplication | Multiplies values on either side of the operator | a * b = 200\n",
    "| //  | floor division | he division of operands where the result is the quotient in<br> which the digits after the decimal point are removed. | b // a = 2\n",
    "| **  | to the power of | Performs exponential (power) calculation on operators | a**b =$10^{20}$"
   ]
  },
  {
   "cell_type": "code",
   "execution_count": 16,
   "id": "4449f441",
   "metadata": {},
   "outputs": [
    {
     "data": {
      "text/plain": [
       "6"
      ]
     },
     "execution_count": 16,
     "metadata": {},
     "output_type": "execute_result"
    }
   ],
   "source": [
    "2 + 4"
   ]
  },
  {
   "cell_type": "code",
   "execution_count": 17,
   "id": "fca6cca1",
   "metadata": {},
   "outputs": [
    {
     "data": {
      "text/plain": [
       "2"
      ]
     },
     "execution_count": 17,
     "metadata": {},
     "output_type": "execute_result"
    }
   ],
   "source": [
    "6 - 4"
   ]
  },
  {
   "cell_type": "code",
   "execution_count": 18,
   "id": "5a75a9cb",
   "metadata": {},
   "outputs": [
    {
     "data": {
      "text/plain": [
       "1.5"
      ]
     },
     "execution_count": 18,
     "metadata": {},
     "output_type": "execute_result"
    }
   ],
   "source": [
    "6 / 4"
   ]
  },
  {
   "cell_type": "code",
   "execution_count": 19,
   "id": "b683081b",
   "metadata": {},
   "outputs": [
    {
     "data": {
      "text/plain": [
       "2"
      ]
     },
     "execution_count": 19,
     "metadata": {},
     "output_type": "execute_result"
    }
   ],
   "source": [
    "6 % 4"
   ]
  },
  {
   "cell_type": "code",
   "execution_count": 20,
   "id": "efb71736",
   "metadata": {},
   "outputs": [
    {
     "data": {
      "text/plain": [
       "15"
      ]
     },
     "execution_count": 20,
     "metadata": {},
     "output_type": "execute_result"
    }
   ],
   "source": [
    "5 * 3"
   ]
  },
  {
   "cell_type": "code",
   "execution_count": 21,
   "id": "574761d8",
   "metadata": {},
   "outputs": [
    {
     "data": {
      "text/plain": [
       "125"
      ]
     },
     "execution_count": 21,
     "metadata": {},
     "output_type": "execute_result"
    }
   ],
   "source": [
    "5 ** 3"
   ]
  },
  {
   "cell_type": "code",
   "execution_count": 22,
   "id": "9df04228",
   "metadata": {},
   "outputs": [
    {
     "data": {
      "text/plain": [
       "1"
      ]
     },
     "execution_count": 22,
     "metadata": {},
     "output_type": "execute_result"
    }
   ],
   "source": [
    "6 // 4"
   ]
  },
  {
   "cell_type": "code",
   "execution_count": 23,
   "id": "64a24a5a",
   "metadata": {},
   "outputs": [
    {
     "data": {
      "text/plain": [
       "-2"
      ]
     },
     "execution_count": 23,
     "metadata": {},
     "output_type": "execute_result"
    }
   ],
   "source": [
    "5 + (4 - 3*2)**3 + 1"
   ]
  },
  {
   "cell_type": "markdown",
   "id": "7e3d77ed",
   "metadata": {},
   "source": [
    "As with many programming languages, we are defining variables and changing their values all the time in Python.\n",
    "We can create a variable simply by inventing a name and assigning a value to it, like the following.\n",
    "\n",
    "To store the results of a calculation in a `variable` we can use `=` sign.\n",
    "\n",
    "```python\n",
    "sample_number = 2 + 3\n",
    "```\n",
    "\n",
    "When working inside the notebooks, we can see the result of the last executed command\n",
    "or a `variable`. For example, what do you see when you type the code below in a blank cell?\n",
    "\n",
    "```\n",
    "sample_number\n",
    "```"
   ]
  },
  {
   "cell_type": "code",
   "execution_count": 24,
   "id": "92f902df",
   "metadata": {},
   "outputs": [],
   "source": [
    "a = 5 + (4 - 3*2)**3 + 1"
   ]
  },
  {
   "cell_type": "code",
   "execution_count": 25,
   "id": "584b3757",
   "metadata": {},
   "outputs": [
    {
     "data": {
      "text/plain": [
       "-2"
      ]
     },
     "execution_count": 25,
     "metadata": {},
     "output_type": "execute_result"
    }
   ],
   "source": [
    "a"
   ]
  },
  {
   "cell_type": "markdown",
   "id": "a0658b3a",
   "metadata": {},
   "source": [
    "Later in the code we can re-use this variable, check what is the output of this command:\n",
    "\n",
    "```python\n",
    "sample_number + 1\n",
    "```"
   ]
  },
  {
   "cell_type": "code",
   "execution_count": 26,
   "id": "b56a4f84",
   "metadata": {},
   "outputs": [
    {
     "data": {
      "text/plain": [
       "3"
      ]
     },
     "execution_count": 26,
     "metadata": {},
     "output_type": "execute_result"
    }
   ],
   "source": [
    "a + 5"
   ]
  },
  {
   "cell_type": "code",
   "execution_count": 27,
   "id": "66a846e4",
   "metadata": {},
   "outputs": [
    {
     "data": {
      "text/plain": [
       "-2"
      ]
     },
     "execution_count": 27,
     "metadata": {},
     "output_type": "execute_result"
    }
   ],
   "source": [
    "a"
   ]
  },
  {
   "cell_type": "code",
   "execution_count": 33,
   "id": "ddeb6504",
   "metadata": {},
   "outputs": [
    {
     "data": {
      "text/plain": [
       "25"
      ]
     },
     "execution_count": 33,
     "metadata": {},
     "output_type": "execute_result"
    }
   ],
   "source": [
    "a = 5 + (4 - 3*2)**3 + 1\n",
    "a = 100\n",
    "a = 20\n",
    "a = a * 2\n",
    "a = a - 15\n",
    "#a = 10\n",
    "\n",
    "a"
   ]
  },
  {
   "cell_type": "markdown",
   "id": "0dd8a2ce",
   "metadata": {},
   "source": [
    "## 3.2 Relational Operators\n",
    "\n",
    "Relational operators are used for comparing the values. It either returns **True** or **False** according to the condition. These operators are also known as Comparison Operators.\n",
    "\n",
    "| Symbol | Task Performed | Description|\n",
    "|:----:  |:---:|:---:| \n",
    "|=\t     |Assignment| Assigns values from right side operands to left side operand\n",
    "|==      |True, if it is equal| If the values of two operands are equal, then the condition becomes true.|\n",
    "|!=      |True, if not equal to| If values of two operands are not equal, then condition becomes true.|\n",
    "|<\t     |less than| If the value of left operand is less than the value of right operand,<br> then condition becomes true.\n",
    "|>\t     |greater than| If the value of left operand is greater than the value of right operand, <br>then condition becomes true.\n",
    "|<=      |less than or equal to| If the value of left operand is less than or equal to the value of right operand,<br> then condition becomes true.\n",
    "|>=      |greater than or equal to|If the value of left operand is greater than or equal to the value of right operand, <br>then condition becomes true."
   ]
  },
  {
   "cell_type": "code",
   "execution_count": 34,
   "id": "de34b44a",
   "metadata": {},
   "outputs": [],
   "source": [
    "x = 2\n",
    "y = 6"
   ]
  },
  {
   "cell_type": "code",
   "execution_count": 38,
   "id": "89028833",
   "metadata": {},
   "outputs": [
    {
     "name": "stdout",
     "output_type": "stream",
     "text": [
      "False\n",
      "False\n",
      "True\n",
      "True\n"
     ]
    }
   ],
   "source": [
    "print(x==y)\n",
    "print(2==6)\n",
    "print(x==2)\n",
    "print(x!=y)"
   ]
  },
  {
   "cell_type": "code",
   "execution_count": 42,
   "id": "8bf96fd0",
   "metadata": {},
   "outputs": [
    {
     "name": "stdout",
     "output_type": "stream",
     "text": [
      "False\n",
      "False\n",
      "True\n"
     ]
    }
   ],
   "source": [
    "print(x>y)\n",
    "print(x>2)\n",
    "print(x>=2)"
   ]
  },
  {
   "cell_type": "code",
   "execution_count": 43,
   "id": "f5bd8822",
   "metadata": {},
   "outputs": [
    {
     "data": {
      "text/plain": [
       "True"
      ]
     },
     "execution_count": 43,
     "metadata": {},
     "output_type": "execute_result"
    }
   ],
   "source": [
    "x > 1 and y < 10"
   ]
  },
  {
   "cell_type": "code",
   "execution_count": 44,
   "id": "0dde8d67",
   "metadata": {},
   "outputs": [
    {
     "data": {
      "text/plain": [
       "False"
      ]
     },
     "execution_count": 44,
     "metadata": {},
     "output_type": "execute_result"
    }
   ],
   "source": [
    "x > 1 and y > 10"
   ]
  },
  {
   "cell_type": "code",
   "execution_count": 45,
   "id": "bc9a2914",
   "metadata": {},
   "outputs": [
    {
     "data": {
      "text/plain": [
       "True"
      ]
     },
     "execution_count": 45,
     "metadata": {},
     "output_type": "execute_result"
    }
   ],
   "source": [
    "x > 1 or y > 10"
   ]
  },
  {
   "cell_type": "code",
   "execution_count": null,
   "id": "e87f0df4",
   "metadata": {},
   "outputs": [],
   "source": []
  },
  {
   "cell_type": "markdown",
   "id": "15b2e0c5",
   "metadata": {},
   "source": [
    "## 3.3 Type\n",
    "\n",
    "Now we have a variable whose name is `a` and its value is `1`.\n",
    "This variable has a _type_, which is the kind of value it contains.\n",
    "In particular, `1` is an integer, whose type is represented in Python with the keyword `int`.\n",
    "Understanding that variables can be of different types is important, because the type defines what we can do with that variable.\n",
    "We can ask Python to tell us the type of a variable by using the `type()` function.\n",
    "\n",
    "Data types are the types of variables we can create.\n",
    "Python defines a few basic ones and packages (see below) provide new data types.\n",
    "This programming language features _dynamic typing_, which means that we do not have to define what a variable can be.\n",
    "Instead, Python infers the type of a variable when we create it.\n",
    "Examples of basic data types are strings (`str`), lists (`list`), integer numbers (`int`).\n",
    "<br><br>\n",
    "\n",
    "| Types | Example |\n",
    "| :--: | :--: |\n",
    "| string | \"Hello\" ,  'World' |\n",
    "| integer | 1 , 2 , 3 |\n",
    "| float | 1.2 , 4.6 , 112.6 |\n",
    "| boolian | True , Flase |\n",
    "|list | [1, 2, 3, 'python', 9, 7] |\n",
    "| dictionary | {'Python': 18 , \"Econ\": 20}\n",
    "\n"
   ]
  },
  {
   "cell_type": "code",
   "execution_count": 50,
   "id": "5f9c68e8",
   "metadata": {},
   "outputs": [
    {
     "name": "stdout",
     "output_type": "stream",
     "text": [
      "<class 'str'>\n",
      "<class 'int'>\n",
      "<class 'float'>\n",
      "<class 'bool'>\n"
     ]
    }
   ],
   "source": [
    "print(type('Econonomics'))\n",
    "print(type(1))\n",
    "print(type(1.3))\n",
    "print(type(False))"
   ]
  },
  {
   "cell_type": "markdown",
   "id": "6f7f0875",
   "metadata": {},
   "source": [
    "### 3.3.1 Text (`str`)\n",
    "\n",
    "A basic object in Python is text.\n",
    "This is formally represented with a `str` object.\n",
    "Strings are denoted either with single or double quotes, and the choice between them is a matter of taste."
   ]
  },
  {
   "cell_type": "code",
   "execution_count": 51,
   "id": "c49f5f80",
   "metadata": {},
   "outputs": [
    {
     "name": "stdout",
     "output_type": "stream",
     "text": [
      "Hello world!\n"
     ]
    }
   ],
   "source": [
    "print(\"Hello world!\")"
   ]
  },
  {
   "cell_type": "code",
   "execution_count": null,
   "id": "0262e6ae",
   "metadata": {},
   "outputs": [],
   "source": []
  },
  {
   "cell_type": "markdown",
   "id": "af5fa918",
   "metadata": {},
   "source": [
    "There must always be consistency between opening a closing quotes. This means that single quotes can only close single quotes and double quotes can only close double quotes."
   ]
  },
  {
   "cell_type": "code",
   "execution_count": 53,
   "id": "24f8345c",
   "metadata": {},
   "outputs": [],
   "source": [
    "# \"weird strinf..'"
   ]
  },
  {
   "cell_type": "code",
   "execution_count": 65,
   "id": "55ef10cb",
   "metadata": {},
   "outputs": [
    {
     "data": {
      "text/plain": [
       "'python course!'"
      ]
     },
     "execution_count": 65,
     "metadata": {},
     "output_type": "execute_result"
    }
   ],
   "source": [
    "\"python\" + \" \" + \"course!\""
   ]
  },
  {
   "cell_type": "code",
   "execution_count": 66,
   "id": "0aa09eb1",
   "metadata": {},
   "outputs": [
    {
     "name": "stdout",
     "output_type": "stream",
     "text": [
      "python course!\n"
     ]
    }
   ],
   "source": [
    "print(\"python\" + \" \" + \"course!\")"
   ]
  },
  {
   "cell_type": "code",
   "execution_count": 67,
   "id": "03457ed0",
   "metadata": {},
   "outputs": [
    {
     "name": "stdout",
     "output_type": "stream",
     "text": [
      "python course!\n"
     ]
    }
   ],
   "source": [
    "print('python', 'course!')"
   ]
  },
  {
   "cell_type": "code",
   "execution_count": 55,
   "id": "64e856f0",
   "metadata": {},
   "outputs": [
    {
     "data": {
      "text/plain": [
       "'python course'"
      ]
     },
     "execution_count": 55,
     "metadata": {},
     "output_type": "execute_result"
    }
   ],
   "source": [
    "a = 'python course'\n",
    "a"
   ]
  },
  {
   "cell_type": "code",
   "execution_count": 56,
   "id": "c063e73d",
   "metadata": {},
   "outputs": [
    {
     "data": {
      "text/plain": [
       "'Python course'"
      ]
     },
     "execution_count": 56,
     "metadata": {},
     "output_type": "execute_result"
    }
   ],
   "source": [
    "a.capitalize()"
   ]
  },
  {
   "cell_type": "code",
   "execution_count": 57,
   "id": "d6ec7f07",
   "metadata": {},
   "outputs": [
    {
     "data": {
      "text/plain": [
       "'PYTHON COURSE'"
      ]
     },
     "execution_count": 57,
     "metadata": {},
     "output_type": "execute_result"
    }
   ],
   "source": [
    "a.upper()\n",
    "# lower"
   ]
  },
  {
   "cell_type": "code",
   "execution_count": 58,
   "id": "cd881566",
   "metadata": {},
   "outputs": [
    {
     "data": {
      "text/plain": [
       "'Hi, this is python course!'"
      ]
     },
     "execution_count": 58,
     "metadata": {},
     "output_type": "execute_result"
    }
   ],
   "source": [
    "s1 = 'Hi, this is python course!'\n",
    "s1"
   ]
  },
  {
   "cell_type": "code",
   "execution_count": 59,
   "id": "27114502",
   "metadata": {},
   "outputs": [
    {
     "data": {
      "text/plain": [
       "3"
      ]
     },
     "execution_count": 59,
     "metadata": {},
     "output_type": "execute_result"
    }
   ],
   "source": [
    "s1.count('i')"
   ]
  },
  {
   "cell_type": "code",
   "execution_count": 60,
   "id": "7811a72e",
   "metadata": {},
   "outputs": [
    {
     "data": {
      "text/plain": [
       "4"
      ]
     },
     "execution_count": 60,
     "metadata": {},
     "output_type": "execute_result"
    }
   ],
   "source": [
    "s1.find('t')"
   ]
  },
  {
   "cell_type": "code",
   "execution_count": 62,
   "id": "777dc940",
   "metadata": {},
   "outputs": [
    {
     "data": {
      "text/plain": [
       "'Hi, this is python course!2'"
      ]
     },
     "execution_count": 62,
     "metadata": {},
     "output_type": "execute_result"
    }
   ],
   "source": [
    "s1 + \"2\""
   ]
  },
  {
   "cell_type": "code",
   "execution_count": 63,
   "id": "618c37f4",
   "metadata": {},
   "outputs": [
    {
     "data": {
      "text/plain": [
       "'Hi, this is python course!2'"
      ]
     },
     "execution_count": 63,
     "metadata": {},
     "output_type": "execute_result"
    }
   ],
   "source": [
    "s1 + str(2)"
   ]
  },
  {
   "cell_type": "code",
   "execution_count": null,
   "id": "5ebb8421",
   "metadata": {},
   "outputs": [],
   "source": []
  },
  {
   "cell_type": "markdown",
   "id": "8d3d5bab",
   "metadata": {},
   "source": [
    "### 3.3.2 Numbers (`int` and a`float`)\n",
    "\n",
    "We already encountered integer numbers, whose type is `int`.\n",
    "Another numerical type we are going to use very often is `float`.\n",
    "This essentially is a non-integer real number, although the inner workings of [floating-point numbers](https://en.wikipedia.org/wiki/Floating-point_arithmetic) are more complicated.\n",
    "We can initialize a variable to be of type `float` by simply assigning a decimal number to a variable."
   ]
  },
  {
   "cell_type": "code",
   "execution_count": 68,
   "id": "f79126d5",
   "metadata": {},
   "outputs": [
    {
     "data": {
      "text/plain": [
       "int"
      ]
     },
     "execution_count": 68,
     "metadata": {},
     "output_type": "execute_result"
    }
   ],
   "source": [
    "type(123)"
   ]
  },
  {
   "cell_type": "code",
   "execution_count": 69,
   "id": "63a7fcaa",
   "metadata": {},
   "outputs": [
    {
     "data": {
      "text/plain": [
       "int"
      ]
     },
     "execution_count": 69,
     "metadata": {},
     "output_type": "execute_result"
    }
   ],
   "source": [
    "type(123)"
   ]
  },
  {
   "cell_type": "markdown",
   "id": "9d9b408c",
   "metadata": {},
   "source": [
    "This works even when the digit on the right of the decimal point is non significant.\n",
    "The simple fact that we typed a period in the number tells Python that we want to work with floating point numbers."
   ]
  },
  {
   "cell_type": "code",
   "execution_count": 70,
   "id": "84c9ade8",
   "metadata": {},
   "outputs": [
    {
     "data": {
      "text/plain": [
       "float"
      ]
     },
     "execution_count": 70,
     "metadata": {},
     "output_type": "execute_result"
    }
   ],
   "source": [
    "type(1.0)"
   ]
  },
  {
   "cell_type": "markdown",
   "id": "60970c04",
   "metadata": {},
   "source": [
    "Both `int` and `float` variables support conventional arithmetic operations, such as addition (`+`), subtraction (`-`), multiplication (`*`), division (`/`) and raise to power (`**`).\n",
    "\n",
    "Other operations that might be handy are floor division (`//`) and the _mod_ operation (`%`).\n",
    "The former returns the largest integer smaller than the quotient, while the latter returns the remainder of floor division."
   ]
  },
  {
   "cell_type": "code",
   "execution_count": null,
   "id": "8193f1cf",
   "metadata": {},
   "outputs": [],
   "source": []
  },
  {
   "cell_type": "code",
   "execution_count": null,
   "id": "96627124",
   "metadata": {},
   "outputs": [],
   "source": []
  },
  {
   "cell_type": "markdown",
   "id": "24004966",
   "metadata": {},
   "source": [
    "### 3.3.3. Iterable objects (`list`, `dict` and `tuple`)\n",
    "\n",
    "Often we want to collect objects in arrays.\n",
    "The most basic example is a vector, which is an organized array of numbers.\n",
    "Python (mainly) provides three iterable objects.\n",
    "\n",
    "####  3.3.3.1 **List**\n",
    "\n",
    "\n",
    "We first look at **lists**.\n",
    "These are arrays of heterogeneous objects.\n",
    "They are created by collecting objects in square brackets.\n",
    "\n",
    "A list of objects is an odered collection of items, for example `['a', 'b', 'c', 'a', 123]`. Since\n",
    "lists are ordered, every item in the list has an associated index that starts with 0. This provides\n",
    "access to specific elements of the list by specifying their index. For example, 'b' in the list above has index `1`.\n",
    "The syntax for accessing a specific element is to provide its index in square brackets, e.g. `sample_list[1]`.\n",
    "\n",
    "There are no restriction on the contents of the list, they can contain repeated values\n",
    "(e.g. 'a' in the list above) or they can contain different data types (e.g. strings and integers in the list above).\n",
    "\n"
   ]
  },
  {
   "cell_type": "code",
   "execution_count": 72,
   "id": "3b54cc76",
   "metadata": {},
   "outputs": [
    {
     "name": "stdout",
     "output_type": "stream",
     "text": [
      "<class 'list'>\n",
      "<class 'list'>\n"
     ]
    }
   ],
   "source": [
    "print(type([]))\n",
    "print(type([1]))"
   ]
  },
  {
   "cell_type": "code",
   "execution_count": 73,
   "id": "f81ddb18",
   "metadata": {},
   "outputs": [
    {
     "data": {
      "text/plain": [
       "['text', 2, 1.5]"
      ]
     },
     "execution_count": 73,
     "metadata": {},
     "output_type": "execute_result"
    }
   ],
   "source": [
    "z = ['text', 2, 1.5]\n",
    "z"
   ]
  },
  {
   "cell_type": "code",
   "execution_count": 74,
   "id": "7c72b916",
   "metadata": {},
   "outputs": [
    {
     "data": {
      "text/plain": [
       "list"
      ]
     },
     "execution_count": 74,
     "metadata": {},
     "output_type": "execute_result"
    }
   ],
   "source": [
    "type(z)"
   ]
  },
  {
   "cell_type": "markdown",
   "id": "40ecf340",
   "metadata": {},
   "source": [
    "Lists can also nest."
   ]
  },
  {
   "cell_type": "code",
   "execution_count": 75,
   "id": "0dd6a3c3",
   "metadata": {},
   "outputs": [
    {
     "data": {
      "text/plain": [
       "[123, 'a', ['text', 2, 1.5]]"
      ]
     },
     "execution_count": 75,
     "metadata": {},
     "output_type": "execute_result"
    }
   ],
   "source": [
    "[123, 'a', z]"
   ]
  },
  {
   "cell_type": "markdown",
   "id": "abaf0637",
   "metadata": {},
   "source": [
    "We can access the contents of any iterable object using square brackets."
   ]
  },
  {
   "cell_type": "code",
   "execution_count": 76,
   "id": "a7fb3386",
   "metadata": {},
   "outputs": [
    {
     "data": {
      "text/plain": [
       "[1, 2, 3, 4, 5, 6, 7, 8, 9, 10]"
      ]
     },
     "execution_count": 76,
     "metadata": {},
     "output_type": "execute_result"
    }
   ],
   "source": [
    "x = [1,2,3,4,5,6,7,8,9,10]\n",
    "x"
   ]
  },
  {
   "cell_type": "code",
   "execution_count": 77,
   "id": "56d85abf",
   "metadata": {},
   "outputs": [
    {
     "data": {
      "text/plain": [
       "1"
      ]
     },
     "execution_count": 77,
     "metadata": {},
     "output_type": "execute_result"
    }
   ],
   "source": [
    "x[0]"
   ]
  },
  {
   "cell_type": "code",
   "execution_count": 78,
   "id": "8ac936f3",
   "metadata": {},
   "outputs": [
    {
     "data": {
      "text/plain": [
       "5"
      ]
     },
     "execution_count": 78,
     "metadata": {},
     "output_type": "execute_result"
    }
   ],
   "source": [
    "x[4]"
   ]
  },
  {
   "cell_type": "code",
   "execution_count": 79,
   "id": "c5e4a444",
   "metadata": {},
   "outputs": [
    {
     "data": {
      "text/plain": [
       "8"
      ]
     },
     "execution_count": 79,
     "metadata": {},
     "output_type": "execute_result"
    }
   ],
   "source": [
    "x[-3]"
   ]
  },
  {
   "cell_type": "markdown",
   "id": "40abbe7b",
   "metadata": {},
   "source": [
    "Sometimes we want to use sequences inside a list, e.g. all items from start until the third item.\n",
    "For this we can use the slicing notation:\n",
    "```\n",
    "[start:stop:step_size]\n",
    "```\n",
    "\n",
    "If `start` is missing, the assumption is to start from 0, if `stop` is missing the assumption\n",
    "is to run up to and including the last item. If `step_size` is missing then iteration\n",
    "will go over all items between `start` and `stop`. \n",
    "\n",
    "Specifying `step_size` will display every `step_size`'th item, e.g. `[::2]` will display every second\n",
    "item starting from the first item. Note that specifying a negative number will reverse the order in which items in the list are\n",
    "displayed. "
   ]
  },
  {
   "cell_type": "code",
   "execution_count": 80,
   "id": "5da1e7ef",
   "metadata": {},
   "outputs": [
    {
     "data": {
      "text/plain": [
       "[1, 2, 3, 4, 5, 6, 7, 8, 9, 10]"
      ]
     },
     "execution_count": 80,
     "metadata": {},
     "output_type": "execute_result"
    }
   ],
   "source": [
    "x"
   ]
  },
  {
   "cell_type": "code",
   "execution_count": 81,
   "id": "b5d1921e",
   "metadata": {},
   "outputs": [
    {
     "data": {
      "text/plain": [
       "[4, 5, 6]"
      ]
     },
     "execution_count": 81,
     "metadata": {},
     "output_type": "execute_result"
    }
   ],
   "source": [
    "x[3:6]"
   ]
  },
  {
   "cell_type": "code",
   "execution_count": 82,
   "id": "5863b265",
   "metadata": {},
   "outputs": [
    {
     "data": {
      "text/plain": [
       "[3, 4, 5, 6, 7, 8, 9]"
      ]
     },
     "execution_count": 82,
     "metadata": {},
     "output_type": "execute_result"
    }
   ],
   "source": [
    "x[2:-1]"
   ]
  },
  {
   "cell_type": "code",
   "execution_count": 83,
   "id": "2c581e6b",
   "metadata": {},
   "outputs": [
    {
     "data": {
      "text/plain": [
       "[1, 2, 3, 4, 5, 6]"
      ]
     },
     "execution_count": 83,
     "metadata": {},
     "output_type": "execute_result"
    }
   ],
   "source": [
    "x[:-4]"
   ]
  },
  {
   "cell_type": "code",
   "execution_count": 84,
   "id": "7c370511",
   "metadata": {},
   "outputs": [
    {
     "data": {
      "text/plain": [
       "[2, 3, 4, 5, 6, 7]"
      ]
     },
     "execution_count": 84,
     "metadata": {},
     "output_type": "execute_result"
    }
   ],
   "source": [
    "x[1:7]"
   ]
  },
  {
   "cell_type": "code",
   "execution_count": 86,
   "id": "25c48db3",
   "metadata": {},
   "outputs": [
    {
     "data": {
      "text/plain": [
       "[2, 4, 6]"
      ]
     },
     "execution_count": 86,
     "metadata": {},
     "output_type": "execute_result"
    }
   ],
   "source": [
    "# [<begin>:<end>:<step>]\n",
    "x[1:7:2]"
   ]
  },
  {
   "cell_type": "code",
   "execution_count": 88,
   "id": "d96bd138",
   "metadata": {},
   "outputs": [
    {
     "data": {
      "text/plain": [
       "[10, 9, 8, 7, 6, 5, 4, 3, 2, 1]"
      ]
     },
     "execution_count": 88,
     "metadata": {},
     "output_type": "execute_result"
    }
   ],
   "source": [
    "x[::-1]"
   ]
  },
  {
   "cell_type": "code",
   "execution_count": 89,
   "id": "048cc11b",
   "metadata": {},
   "outputs": [
    {
     "data": {
      "text/plain": [
       "[1, 2, 3, 4, 5, 6, 7, 8, 9, 10, 1, 2, 3, 4, 5, 6, 7, 8, 9, 10]"
      ]
     },
     "execution_count": 89,
     "metadata": {},
     "output_type": "execute_result"
    }
   ],
   "source": [
    "x * 2"
   ]
  },
  {
   "cell_type": "code",
   "execution_count": 90,
   "id": "6c7c4949",
   "metadata": {},
   "outputs": [
    {
     "data": {
      "text/plain": [
       "[1, 2, 3, 4, 5, 6, 7, 8, 9, 10]"
      ]
     },
     "execution_count": 90,
     "metadata": {},
     "output_type": "execute_result"
    }
   ],
   "source": [
    "x"
   ]
  },
  {
   "cell_type": "code",
   "execution_count": 92,
   "id": "dab830d8",
   "metadata": {},
   "outputs": [
    {
     "data": {
      "text/plain": [
       "[1, 2, 3, 4, 5, 6, 7, 8, 9, 10, 4]"
      ]
     },
     "execution_count": 92,
     "metadata": {},
     "output_type": "execute_result"
    }
   ],
   "source": [
    "x + [4]"
   ]
  },
  {
   "cell_type": "markdown",
   "id": "e6a6d19a",
   "metadata": {},
   "source": [
    "- With `.append()`, you can add items to the end of an existing list object. However, you need to keep in mind that .append() adds only a single item or object at a time:"
   ]
  },
  {
   "cell_type": "code",
   "execution_count": 93,
   "id": "54e01e4d",
   "metadata": {},
   "outputs": [],
   "source": [
    "x.append(5)"
   ]
  },
  {
   "cell_type": "code",
   "execution_count": 94,
   "id": "f28ecd46",
   "metadata": {},
   "outputs": [
    {
     "data": {
      "text/plain": [
       "[1, 2, 3, 4, 5, 6, 7, 8, 9, 10, 5]"
      ]
     },
     "execution_count": 94,
     "metadata": {},
     "output_type": "execute_result"
    }
   ],
   "source": [
    "x"
   ]
  },
  {
   "cell_type": "code",
   "execution_count": 95,
   "id": "00ed9d09",
   "metadata": {},
   "outputs": [],
   "source": [
    "x.append([6,7])"
   ]
  },
  {
   "cell_type": "code",
   "execution_count": 96,
   "id": "24f2d496",
   "metadata": {},
   "outputs": [
    {
     "data": {
      "text/plain": [
       "[1, 2, 3, 4, 5, 6, 7, 8, 9, 10, 5, [6, 7]]"
      ]
     },
     "execution_count": 96,
     "metadata": {},
     "output_type": "execute_result"
    }
   ],
   "source": [
    "x"
   ]
  },
  {
   "cell_type": "markdown",
   "id": "5dbb316f",
   "metadata": {},
   "source": [
    "- The `.extend()` method adds all the elements of an iterable (list, tuple, string etc.) to the end of the list."
   ]
  },
  {
   "cell_type": "code",
   "execution_count": 97,
   "id": "c5d0c15d",
   "metadata": {},
   "outputs": [],
   "source": [
    "x.extend([2323, 4253, 'Saeed'])"
   ]
  },
  {
   "cell_type": "code",
   "execution_count": 98,
   "id": "4fde7a5c",
   "metadata": {},
   "outputs": [
    {
     "data": {
      "text/plain": [
       "[1, 2, 3, 4, 5, 6, 7, 8, 9, 10, 5, [6, 7], 2323, 4253, 'Saeed']"
      ]
     },
     "execution_count": 98,
     "metadata": {},
     "output_type": "execute_result"
    }
   ],
   "source": [
    "x"
   ]
  },
  {
   "cell_type": "code",
   "execution_count": 99,
   "id": "82185c1f",
   "metadata": {},
   "outputs": [
    {
     "data": {
      "text/plain": [
       "14"
      ]
     },
     "execution_count": 99,
     "metadata": {},
     "output_type": "execute_result"
    }
   ],
   "source": [
    "x.index('Saeed')"
   ]
  },
  {
   "cell_type": "code",
   "execution_count": 100,
   "id": "2bd9dd11",
   "metadata": {},
   "outputs": [
    {
     "data": {
      "text/plain": [
       "'Saeed'"
      ]
     },
     "execution_count": 100,
     "metadata": {},
     "output_type": "execute_result"
    }
   ],
   "source": [
    "x[14]"
   ]
  },
  {
   "cell_type": "markdown",
   "id": "389648b2",
   "metadata": {},
   "source": [
    "- The `.index()` method returns the index of the specified element in the list.\n",
    "```python\n",
    "list.insert(i, elm)\n",
    "```\n",
    "Here, `elem` is inserted to the list at the $i^{th}$ index. All the elements after `elem` are shifted to the right."
   ]
  },
  {
   "cell_type": "code",
   "execution_count": 101,
   "id": "1069e906",
   "metadata": {},
   "outputs": [],
   "source": [
    "x.insert(3, 'Python')"
   ]
  },
  {
   "cell_type": "code",
   "execution_count": 102,
   "id": "773a5586",
   "metadata": {},
   "outputs": [
    {
     "data": {
      "text/plain": [
       "[1, 2, 3, 'Python', 4, 5, 6, 7, 8, 9, 10, 5, [6, 7], 2323, 4253, 'Saeed']"
      ]
     },
     "execution_count": 102,
     "metadata": {},
     "output_type": "execute_result"
    }
   ],
   "source": [
    "x"
   ]
  },
  {
   "cell_type": "markdown",
   "id": "c9dde360",
   "metadata": {},
   "source": [
    "- We have two methods (`.remove()` and `.pop()`) to delete elements in out lists.<br>\n",
    "The `.remove(item)` method removes the first matching element (which is passed as an argument) from the list.  \n",
    "The `.pop(index)` method removes the item at the given index from the list and returns the removed item."
   ]
  },
  {
   "cell_type": "code",
   "execution_count": 103,
   "id": "d4c66340",
   "metadata": {},
   "outputs": [
    {
     "data": {
      "text/plain": [
       "[1, 2, 3, 'Python', 4, 5, 6, 7, 8, 9, 10, 5, [6, 7], 2323, 4253, 'Saeed']"
      ]
     },
     "execution_count": 103,
     "metadata": {},
     "output_type": "execute_result"
    }
   ],
   "source": [
    "x"
   ]
  },
  {
   "cell_type": "code",
   "execution_count": 104,
   "id": "7613e26e",
   "metadata": {},
   "outputs": [
    {
     "data": {
      "text/plain": [
       "[1, 2, 3, 4, 5, 6, 7, 8, 9, 10, 5, [6, 7], 2323, 4253, 'Saeed']"
      ]
     },
     "execution_count": 104,
     "metadata": {},
     "output_type": "execute_result"
    }
   ],
   "source": [
    "x.remove('Python') # item / value\n",
    "x"
   ]
  },
  {
   "cell_type": "code",
   "execution_count": 105,
   "id": "ad447d77",
   "metadata": {},
   "outputs": [
    {
     "data": {
      "text/plain": [
       "[1, 2, 3, 4, 5, 6, 7, 8, 9, 10, 5, [6, 7], 2323, 4253]"
      ]
     },
     "execution_count": 105,
     "metadata": {},
     "output_type": "execute_result"
    }
   ],
   "source": [
    "x.pop(-1)   # index\n",
    "x"
   ]
  },
  {
   "cell_type": "markdown",
   "id": "2ab8efbd",
   "metadata": {},
   "source": [
    "- The `.reverse()` method reverses the elements of the list."
   ]
  },
  {
   "cell_type": "code",
   "execution_count": 106,
   "id": "d5320ef7",
   "metadata": {},
   "outputs": [
    {
     "data": {
      "text/plain": [
       "[4253, 2323, [6, 7], 5, 10, 9, 8, 7, 6, 5, 4, 3, 2, 1]"
      ]
     },
     "execution_count": 106,
     "metadata": {},
     "output_type": "execute_result"
    }
   ],
   "source": [
    "x.reverse()\n",
    "x"
   ]
  },
  {
   "cell_type": "markdown",
   "id": "f585836a",
   "metadata": {},
   "source": [
    "- The `.sort()` method sorts the items of a list in ascending or descending order.<br>\n",
    "The `.sort()` method accepts a reverse parameter as an optional argument.  \n",
    "    - Setting `reverse = True` sorts the list in the descending order.\n"
   ]
  },
  {
   "cell_type": "code",
   "execution_count": 107,
   "id": "92a55fac",
   "metadata": {},
   "outputs": [
    {
     "data": {
      "text/plain": [
       "[1, 2, 3, 4, 10, 3, 54, -34]"
      ]
     },
     "execution_count": 107,
     "metadata": {},
     "output_type": "execute_result"
    }
   ],
   "source": [
    "x = [1,2,3,4,10,3,54,-34]\n",
    "x"
   ]
  },
  {
   "cell_type": "code",
   "execution_count": 109,
   "id": "1abf6058",
   "metadata": {},
   "outputs": [
    {
     "data": {
      "text/plain": [
       "[54, 10, 4, 3, 3, 2, 1, -34]"
      ]
     },
     "execution_count": 109,
     "metadata": {},
     "output_type": "execute_result"
    }
   ],
   "source": [
    "x.sort(reverse=True)\n",
    "x"
   ]
  },
  {
   "cell_type": "markdown",
   "id": "e1eab3a7",
   "metadata": {},
   "source": [
    "####  3.3.3.2 **Dictionary**\n",
    "\n",
    "Finally, we have **dictionaries**.\n",
    "These are essentially lists, with the difference that each element is assigned to a _key_.\n",
    "We create dictionaries using curly braces.\n",
    "\n",
    "\n",
    "`Dictionary` is a data type that contains a combination of key-value items, for example:\n",
    "\n",
    "```python\n",
    "sample_dictionary = dict(math=19, econ=20, physics=16, geology=14)\n",
    "sample_dictionary_alt = {'math' =19, 'econ'= 20, 'physics'= 16, 'geology'= 14}\n",
    "print(sample_dictionary, sample_dictionary_alt)\n",
    "```\n",
    "\n",
    "Once a dictionary is defined we can access specific values by using relevant key, specifying\n",
    "it in square brackets, for example:\n",
    "\n",
    "```python\n",
    "print(sample_dictionary['econ'])\n",
    "```\n",
    "\n",
    "We can use a similar notation to add new key/value pairs to the dictionary:\n",
    "\n",
    "```python\n",
    "sample_dictionary['python'] = True\n",
    "print(sample_dictionary)\n",
    "```"
   ]
  },
  {
   "cell_type": "code",
   "execution_count": 110,
   "id": "26ef60d0",
   "metadata": {},
   "outputs": [
    {
     "data": {
      "text/plain": [
       "dict"
      ]
     },
     "execution_count": 110,
     "metadata": {},
     "output_type": "execute_result"
    }
   ],
   "source": [
    "type({})"
   ]
  },
  {
   "cell_type": "code",
   "execution_count": null,
   "id": "15a1d91a",
   "metadata": {},
   "outputs": [],
   "source": [
    "# disctiory\n",
    "\n",
    "# { : , :  , :  }"
   ]
  },
  {
   "cell_type": "code",
   "execution_count": 114,
   "id": "46f655f9",
   "metadata": {},
   "outputs": [
    {
     "data": {
      "text/plain": [
       "{'math': 19, 'econ': 20, 'physics': 16, 'geology': 14}"
      ]
     },
     "execution_count": 114,
     "metadata": {},
     "output_type": "execute_result"
    }
   ],
   "source": [
    "score = {'math':19, 'econ': 20, 'physics': 16, 'geology': 14}\n",
    "score"
   ]
  },
  {
   "cell_type": "code",
   "execution_count": 115,
   "id": "7e2bcc09",
   "metadata": {},
   "outputs": [
    {
     "data": {
      "text/plain": [
       "dict"
      ]
     },
     "execution_count": 115,
     "metadata": {},
     "output_type": "execute_result"
    }
   ],
   "source": [
    "type(score)"
   ]
  },
  {
   "cell_type": "code",
   "execution_count": 117,
   "id": "d99f96a0",
   "metadata": {},
   "outputs": [
    {
     "data": {
      "text/plain": [
       "19"
      ]
     },
     "execution_count": 117,
     "metadata": {},
     "output_type": "execute_result"
    }
   ],
   "source": [
    "score['math']"
   ]
  },
  {
   "cell_type": "code",
   "execution_count": 118,
   "id": "849216fb",
   "metadata": {},
   "outputs": [],
   "source": [
    "score['managment'] = False\n",
    "score['low'] = 18.5"
   ]
  },
  {
   "cell_type": "code",
   "execution_count": 119,
   "id": "b22494ef",
   "metadata": {},
   "outputs": [
    {
     "data": {
      "text/plain": [
       "{'math': 19,\n",
       " 'econ': 20,\n",
       " 'physics': 16,\n",
       " 'geology': 14,\n",
       " 'managment': False,\n",
       " 'low': 18.5}"
      ]
     },
     "execution_count": 119,
     "metadata": {},
     "output_type": "execute_result"
    }
   ],
   "source": [
    "score"
   ]
  },
  {
   "cell_type": "code",
   "execution_count": 120,
   "id": "155f1e1a",
   "metadata": {},
   "outputs": [
    {
     "data": {
      "text/plain": [
       "18.5"
      ]
     },
     "execution_count": 120,
     "metadata": {},
     "output_type": "execute_result"
    }
   ],
   "source": [
    "score['low']"
   ]
  },
  {
   "cell_type": "code",
   "execution_count": 121,
   "id": "40223105",
   "metadata": {},
   "outputs": [
    {
     "data": {
      "text/plain": [
       "dict_keys(['math', 'econ', 'physics', 'geology', 'managment', 'low'])"
      ]
     },
     "execution_count": 121,
     "metadata": {},
     "output_type": "execute_result"
    }
   ],
   "source": [
    "score.keys()"
   ]
  },
  {
   "cell_type": "code",
   "execution_count": 122,
   "id": "f6b33501",
   "metadata": {},
   "outputs": [
    {
     "data": {
      "text/plain": [
       "dict_values([19, 20, 16, 14, False, 18.5])"
      ]
     },
     "execution_count": 122,
     "metadata": {},
     "output_type": "execute_result"
    }
   ],
   "source": [
    "score.values()"
   ]
  },
  {
   "cell_type": "markdown",
   "id": "81fc1e44",
   "metadata": {},
   "source": [
    "<font size=\"3\"><br>**Exercise:** <br>Write a program that gets ’c’, ’m’ and ’p’ characters from the list below and adds it to the beginning of my_course. (Make sure that ’c’, ’m’ and ’p’ are uppercase) <br>\n",
    "\n",
    "~~~\n",
    "my_list = [\"c\" , \"o\" , \"m\" , \"p\" , \"u\" , \"t\", \"e\" , \"r\"]\n",
    "my_course = \"(Python for Economics)\"\n",
    "\n",
    "~~~\n",
    "<br>\n",
    "<font size=\"3\"> The final output is as follows: \"CMP(Python for Economics)\""
   ]
  },
  {
   "cell_type": "code",
   "execution_count": 126,
   "id": "cc3d31de",
   "metadata": {},
   "outputs": [
    {
     "name": "stdout",
     "output_type": "stream",
     "text": [
      "CMP(Python for Economics)\n"
     ]
    }
   ],
   "source": [
    "my_list = ['c' , 'o' , 'm' , 'p' , 'u' , 't', 'e', 'r']\n",
    "my_course = \"(Python for Economics)\"\n",
    "\n",
    "part_1 = my_list[0] + my_list[2] + my_list[3]\n",
    "part_1 = part_1.upper()\n",
    "part_1\n",
    "\n",
    "new = part_1 + my_course\n",
    "print(new)"
   ]
  },
  {
   "cell_type": "code",
   "execution_count": null,
   "id": "c3fe462f",
   "metadata": {},
   "outputs": [],
   "source": []
  },
  {
   "cell_type": "code",
   "execution_count": null,
   "id": "9a0ae0ac",
   "metadata": {},
   "outputs": [],
   "source": []
  },
  {
   "cell_type": "code",
   "execution_count": null,
   "id": "b21e7fbb",
   "metadata": {},
   "outputs": [],
   "source": []
  },
  {
   "cell_type": "markdown",
   "id": "2704fbbf",
   "metadata": {},
   "source": [
    "# 4. Control flow (Loop, Conditional Control)\n",
    "\n",
    "<img src = \"https://github.com/saeed-saffari/alzahra-workshop-spr2021/blob/main/lecture/PIC/Loops-in-Python.png?raw=true\" width = 600 >\n",
    "\n",
    "\n",
    "Control flow is the set of techniques that allows us to manage the way code is executed.\n",
    "For example, you might want to execute some code provided a certain condition is `True`.\n",
    "Or you might want to repeat a certain action a given number of times.\n",
    "Or, again, you might want to run code as long as a condition is `True`, but you do not know how many times the code should be executed before the condition turns `True`.\n",
    "\n",
    "The three examples are managed by the statements [`if`](https://docs.python.org/3/reference/compound_stmts.html#the-if-statement), [`for`](https://docs.python.org/3/reference/compound_stmts.html#the-for-statement) and [`while`](https://docs.python.org/3/reference/compound_stmts.html#the-while-statement).\n",
    "Here we see basic applications, just to convey the idea.\n",
    "We should keep in mind two things when working with control flow statements:\n",
    "- The control flow statement has to be on a line that end with a semicolon (`:`).\n",
    "- The code block following the control flow statements has to be indented with four whitespaces.\n",
    "\n",
    "The `if` and `while` statements work provided that a certain condition holds.\n",
    "Such condition is a boolean value that is either `True` or `False`.\n",
    "Python supports boolean arithmetics with the keywords `and`, `or` and `not`.\n",
    "\n",
    "The `if` statement can be expanded to the `if`-`elif`-`else`.\n",
    "\n",
    "\n",
    "## 4.1 Loops\n",
    "When working with collections (`lists`, `sets`, `dictionaries`, etc.) it is possible\n",
    "to operate on every item using a loop.\n",
    "\n",
    "Defining a loop requires an iterable (in our example it is `sample_list`), which \n",
    "could be `list`, `tuple`, `set` or any other object that supports iteration. By\n",
    "specifying `item` we are asking python to iterate over one element of the list \n",
    "at a time, storing this element in a variable called `item`. \n",
    "\n",
    "Operations that should be perfomed within the loop must be idented (typically with\n",
    "four leading spaces, but some use tabs, two spaces, or some other identation). Also\n",
    "note the colon `:` at the end of the `for` statement.\n",
    "\n",
    "\n",
    "### 4.1.1 for\n",
    "The simplest loop is `for` loop, with the following syntax:\n",
    "\n",
    "```python\n",
    "sample_list = [1, 4, 7, 10]\n",
    "for item in sample_list:\n",
    "    print(item)\n",
    "```"
   ]
  },
  {
   "cell_type": "code",
   "execution_count": null,
   "id": "38e14e20",
   "metadata": {},
   "outputs": [],
   "source": [
    "for ... in ...:\n",
    "    ...\n",
    "    ...\n",
    "    ...\n",
    "    ..."
   ]
  },
  {
   "cell_type": "code",
   "execution_count": 127,
   "id": "7d8869ac",
   "metadata": {},
   "outputs": [
    {
     "name": "stdout",
     "output_type": "stream",
     "text": [
      "['Saeed', 'Mahshid', 'James', 'Sanaz', 'Sara']\n"
     ]
    }
   ],
   "source": [
    "users = ['Saeed', \"Mahshid\", 'James', 'Sanaz', 'Sara']\n",
    "print(users)"
   ]
  },
  {
   "cell_type": "code",
   "execution_count": 128,
   "id": "173adcc8",
   "metadata": {},
   "outputs": [
    {
     "name": "stdout",
     "output_type": "stream",
     "text": [
      "Saeed\n",
      "Mahshid\n",
      "James\n",
      "Sanaz\n",
      "Sara\n"
     ]
    }
   ],
   "source": [
    "for user in users:\n",
    "    print(user)"
   ]
  },
  {
   "cell_type": "code",
   "execution_count": 133,
   "id": "8ad3295f",
   "metadata": {},
   "outputs": [
    {
     "name": "stdout",
     "output_type": "stream",
     "text": [
      "Hi,\n",
      "Saeed\n",
      "Hi,\n",
      "Mahshid\n",
      "Hi,\n",
      "James\n",
      "Hi,\n",
      "Sanaz\n",
      "Hi,\n",
      "Sara\n",
      "Bye!\n"
     ]
    }
   ],
   "source": [
    "for user in users:\n",
    "    print('Hi,')\n",
    "    print(user)\n",
    "print('Bye!')"
   ]
  },
  {
   "cell_type": "code",
   "execution_count": 137,
   "id": "b50695cb",
   "metadata": {},
   "outputs": [
    {
     "data": {
      "text/plain": [
       "[1, 5, 8, 12, 48, 1, 5, 8, 12, 48]"
      ]
     },
     "execution_count": 137,
     "metadata": {},
     "output_type": "execute_result"
    }
   ],
   "source": [
    "a = [1,5,8,12,48]\n",
    "a * 2"
   ]
  },
  {
   "cell_type": "code",
   "execution_count": 140,
   "id": "b445792c",
   "metadata": {},
   "outputs": [
    {
     "name": "stdout",
     "output_type": "stream",
     "text": [
      "2\n",
      "10\n",
      "16\n",
      "24\n",
      "96\n"
     ]
    }
   ],
   "source": [
    "for i in [1,5,8,12,48]:\n",
    "    print(i*2)"
   ]
  },
  {
   "cell_type": "code",
   "execution_count": 142,
   "id": "8b7d6894",
   "metadata": {},
   "outputs": [
    {
     "data": {
      "text/plain": [
       "[-10, -9, -8, -7, -6, -5, -4, -3, -2, -1, 0, 1, 2, 3, 4, 5, 6, 7, 8, 9]"
      ]
     },
     "execution_count": 142,
     "metadata": {},
     "output_type": "execute_result"
    }
   ],
   "source": [
    "list(range(-10,10))"
   ]
  },
  {
   "cell_type": "code",
   "execution_count": 143,
   "id": "9bcde741",
   "metadata": {},
   "outputs": [
    {
     "name": "stdout",
     "output_type": "stream",
     "text": [
      "3\n",
      "4\n",
      "5\n",
      "6\n",
      "7\n",
      "8\n",
      "9\n"
     ]
    }
   ],
   "source": [
    "for i in range(3,10):\n",
    "    print(i)"
   ]
  },
  {
   "cell_type": "code",
   "execution_count": 148,
   "id": "2b75a842",
   "metadata": {},
   "outputs": [
    {
     "name": "stdout",
     "output_type": "stream",
     "text": [
      "[1]\n",
      "[1, 4]\n",
      "[1, 4, 9]\n",
      "[1, 4, 9, 16]\n",
      "[1, 4, 9, 16, 25]\n",
      "[1, 4, 9, 16, 25, 36]\n",
      "[1, 4, 9, 16, 25, 36, 49]\n",
      "[1, 4, 9, 16, 25, 36, 49, 64]\n",
      "[1, 4, 9, 16, 25, 36, 49, 64, 81]\n",
      "[1, 4, 9, 16, 25, 36, 49, 64, 81, 100]\n",
      "[1, 4, 9, 16, 25, 36, 49, 64, 81, 100, 121]\n",
      "[1, 4, 9, 16, 25, 36, 49, 64, 81, 100, 121, 144]\n",
      "[1, 4, 9, 16, 25, 36, 49, 64, 81, 100, 121, 144, 169]\n",
      "[1, 4, 9, 16, 25, 36, 49, 64, 81, 100, 121, 144, 169, 196]\n",
      "[1, 4, 9, 16, 25, 36, 49, 64, 81, 100, 121, 144, 169, 196, 225]\n",
      "[1, 4, 9, 16, 25, 36, 49, 64, 81, 100, 121, 144, 169, 196, 225, 256]\n",
      "[1, 4, 9, 16, 25, 36, 49, 64, 81, 100, 121, 144, 169, 196, 225, 256, 289]\n",
      "[1, 4, 9, 16, 25, 36, 49, 64, 81, 100, 121, 144, 169, 196, 225, 256, 289, 324]\n",
      "[1, 4, 9, 16, 25, 36, 49, 64, 81, 100, 121, 144, 169, 196, 225, 256, 289, 324, 361]\n",
      "[1, 4, 9, 16, 25, 36, 49, 64, 81, 100, 121, 144, 169, 196, 225, 256, 289, 324, 361, 400]\n",
      "[1, 4, 9, 16, 25, 36, 49, 64, 81, 100, 121, 144, 169, 196, 225, 256, 289, 324, 361, 400, 441]\n",
      "[1, 4, 9, 16, 25, 36, 49, 64, 81, 100, 121, 144, 169, 196, 225, 256, 289, 324, 361, 400, 441, 484]\n",
      "[1, 4, 9, 16, 25, 36, 49, 64, 81, 100, 121, 144, 169, 196, 225, 256, 289, 324, 361, 400, 441, 484, 529]\n",
      "[1, 4, 9, 16, 25, 36, 49, 64, 81, 100, 121, 144, 169, 196, 225, 256, 289, 324, 361, 400, 441, 484, 529, 576]\n"
     ]
    }
   ],
   "source": [
    "squares = []\n",
    "\n",
    "for i in range(1,25):\n",
    "    #print(i)\n",
    "    a = i ** 2\n",
    "    squares.append(a)\n",
    "    #print(a)\n",
    "    print(squares)"
   ]
  },
  {
   "cell_type": "code",
   "execution_count": 146,
   "id": "912cde66",
   "metadata": {},
   "outputs": [
    {
     "data": {
      "text/plain": [
       "[1,\n",
       " 4,\n",
       " 9,\n",
       " 16,\n",
       " 25,\n",
       " 36,\n",
       " 49,\n",
       " 64,\n",
       " 81,\n",
       " 100,\n",
       " 121,\n",
       " 144,\n",
       " 169,\n",
       " 196,\n",
       " 225,\n",
       " 256,\n",
       " 289,\n",
       " 324,\n",
       " 361,\n",
       " 400,\n",
       " 441,\n",
       " 484,\n",
       " 529,\n",
       " 576]"
      ]
     },
     "execution_count": 146,
     "metadata": {},
     "output_type": "execute_result"
    }
   ],
   "source": [
    "squares"
   ]
  },
  {
   "cell_type": "markdown",
   "id": "3511b45d",
   "metadata": {},
   "source": [
    "### 4.1.2 while\n",
    "Python `While` Loop is used to execute a block of statements repeatedly until a given condition is satisfied. And when the condition becomes false, the line immediately after the loop in the program is executed. While loop falls under the category of indefinite iteration. Indefinite iteration means that the number of times the loop is executed isn’t specified explicitly in advance. \n",
    "\n",
    "<img src = \"https://github.com/saeed-saffari/alzahra-workshop-spr2021/blob/main/lecture/PIC/Looping.jpg?raw=true\">"
   ]
  },
  {
   "cell_type": "code",
   "execution_count": 151,
   "id": "91f32dfc",
   "metadata": {},
   "outputs": [
    {
     "data": {
      "text/plain": [
       "True"
      ]
     },
     "execution_count": 151,
     "metadata": {},
     "output_type": "execute_result"
    }
   ],
   "source": [
    "n = 0\n",
    "n < 10"
   ]
  },
  {
   "cell_type": "code",
   "execution_count": 8,
   "id": "95d573be",
   "metadata": {},
   "outputs": [
    {
     "name": "stdout",
     "output_type": "stream",
     "text": [
      "0\n",
      "1\n",
      "2\n",
      "3\n",
      "4\n",
      "5\n",
      "6\n",
      "7\n",
      "8\n",
      "9\n"
     ]
    }
   ],
   "source": [
    "n = 0\n",
    "\n",
    "while n < 10:\n",
    "    print(n)\n",
    "    n = n + 1    # n += 1\n",
    "    #print(n)"
   ]
  },
  {
   "cell_type": "code",
   "execution_count": null,
   "id": "ee7a6fdb",
   "metadata": {},
   "outputs": [],
   "source": []
  },
  {
   "cell_type": "code",
   "execution_count": null,
   "id": "826c35e7",
   "metadata": {},
   "outputs": [],
   "source": []
  },
  {
   "cell_type": "markdown",
   "id": "9e237961",
   "metadata": {},
   "source": [
    "## 4.2 Conditional Control (if, elif, else)\n",
    "\n",
    "<img src = \"https://github.com/saeed-saffari/alzahra-workshop-spr2021/blob/main/lecture/PIC/if-else.jpg?raw=true\" width = \"700\">\n",
    "\n",
    "If execution of command should depend on some condition, then we can use `if/else` syntax:\n",
    "\n",
    "```python\n",
    "if some_condition:\n",
    "    # run code here\n",
    "elif some_other_condition:\n",
    "    # run code here\n",
    "else:\n",
    "    # run code here\n",
    "```\n",
    "\n"
   ]
  },
  {
   "cell_type": "code",
   "execution_count": 10,
   "id": "5cdfc5dc",
   "metadata": {},
   "outputs": [
    {
     "data": {
      "text/plain": [
       "False"
      ]
     },
     "execution_count": 10,
     "metadata": {},
     "output_type": "execute_result"
    }
   ],
   "source": [
    "3 < 2"
   ]
  },
  {
   "cell_type": "code",
   "execution_count": 12,
   "id": "db25102f",
   "metadata": {},
   "outputs": [],
   "source": [
    "if 3 < 2:\n",
    "    print('That is True!')"
   ]
  },
  {
   "cell_type": "code",
   "execution_count": 17,
   "id": "0825dcf6",
   "metadata": {},
   "outputs": [
    {
     "name": "stdout",
     "output_type": "stream",
     "text": [
      "Enter your age: 7\n",
      "You can NOT vote yet!\n",
      "you can will vote after 11 years!\n",
      "You are now 7 years old. You can vote after 11 years.\n"
     ]
    }
   ],
   "source": [
    "age = int(input('Enter your age: '))\n",
    "\n",
    "if age >= 18:\n",
    "    print('You are old enought to vote!')\n",
    "else:\n",
    "    print('You can NOT vote yet!')\n",
    "    print('you can will vote after ' + str(18 - age) + ' years!')\n",
    "    print(\"You are now {} years old. You can vote after {} years.\".format(age, 18-age))"
   ]
  },
  {
   "cell_type": "code",
   "execution_count": 20,
   "id": "468c72e7",
   "metadata": {},
   "outputs": [
    {
     "name": "stdout",
     "output_type": "stream",
     "text": [
      "Enter your age: 18\n",
      "Your cost is $100.\n"
     ]
    }
   ],
   "source": [
    "age = int(input('Enter your age: '))\n",
    "\n",
    "if age < 4:\n",
    "    price = 0\n",
    "elif age < 16:\n",
    "    price = 50\n",
    "else:\n",
    "    price = 100\n",
    "    \n",
    "print('Your cost is ${}.'.format(price))"
   ]
  },
  {
   "cell_type": "code",
   "execution_count": 25,
   "id": "a5cc7092",
   "metadata": {},
   "outputs": [
    {
     "name": "stdout",
     "output_type": "stream",
     "text": [
      "1 is ODD number!\n",
      "2 is even number!\n",
      "4 is even number!\n",
      "6 is even number!\n",
      "135 is ODD number!\n",
      "124 is even number!\n",
      "137 is ODD number!\n",
      "456 is even number!\n"
     ]
    }
   ],
   "source": [
    "my_list = [1,2,4,6,135,124,137,456]\n",
    "\n",
    "for num in my_list:\n",
    "    if num % 2 == 0:\n",
    "        print(num, 'is even number!')\n",
    "    else:\n",
    "    #elif num % 2 != 0:\n",
    "    #elif num % 2 == 1:\n",
    "        print(num, 'is ODD number!')"
   ]
  },
  {
   "cell_type": "markdown",
   "id": "e5b013ff",
   "metadata": {},
   "source": [
    "<font size=\"3\"><br>**Exercise:** <br>With run below command, create a list with 15 random numbers between 1 and 100. Then write a program that prints separate lists of odd and even numbers. <br>\n",
    "\n",
    "~~~\n",
    "import random\n",
    "list_1 = random.sample(range(1, 100), 15)\n",
    "\n",
    "~~~"
   ]
  },
  {
   "cell_type": "code",
   "execution_count": 33,
   "id": "62a1c012",
   "metadata": {},
   "outputs": [
    {
     "data": {
      "text/plain": [
       "[68, 42, 27, 94, 30, 64, 14, 78, 25, 66, 6, 24, 62, 36, 71]"
      ]
     },
     "execution_count": 33,
     "metadata": {},
     "output_type": "execute_result"
    }
   ],
   "source": [
    "import random\n",
    "list_1 = random.sample(range(1, 100), 15)\n",
    "list_1"
   ]
  },
  {
   "cell_type": "code",
   "execution_count": 34,
   "id": "ae4797b4",
   "metadata": {},
   "outputs": [],
   "source": [
    "odd_num = []\n",
    "even_num = []\n",
    "\n",
    "for i in list_1:\n",
    "    if i % 2 == 0:\n",
    "        even_num.append(i)\n",
    "    else:\n",
    "        odd_num.append(i)"
   ]
  },
  {
   "cell_type": "code",
   "execution_count": 35,
   "id": "9933216e",
   "metadata": {},
   "outputs": [
    {
     "name": "stdout",
     "output_type": "stream",
     "text": [
      "[27, 25, 71]\n",
      "[68, 42, 94, 30, 64, 14, 78, 66, 6, 24, 62, 36]\n"
     ]
    }
   ],
   "source": [
    "print(odd_num)\n",
    "print(even_num)"
   ]
  },
  {
   "cell_type": "code",
   "execution_count": null,
   "id": "1fbba5f2",
   "metadata": {},
   "outputs": [],
   "source": []
  },
  {
   "cell_type": "markdown",
   "id": "a5f126b6",
   "metadata": {},
   "source": [
    "# 5. Functions (`def` and `lambda`)\n",
    "\n",
    "## 5.1 Functions (def)\n",
    "\n",
    "<img src = \"https://github.com/saeed-saffari/alzahra-workshop-spr2021/blob/main/lecture/PIC/python-functions.gif?raw=true\" width = 750>\n",
    "\n",
    "You might have noticed so far that Python is rather limited as a programming language.\n",
    "This is because Python is a general-purpose language: it should be flexible enough for everybody to achieve their goals, but it cannot afford to be a BIG library of code.\n",
    "\n",
    "\n",
    "We can define a new function by using the `def` keyword, listing arguments in round parentheses.\n",
    "Also, if we want the function to give back something, we should explicitly instruct Python to do so with the `return` keyword.\n",
    "\n",
    "**General structure:**\n",
    "```python\n",
    "def function_name(parameters):\n",
    "    \"\"\" codes \"\"\"\n",
    "    statement(s)\n",
    "```\n"
   ]
  },
  {
   "cell_type": "code",
   "execution_count": null,
   "id": "c83565f5",
   "metadata": {},
   "outputs": [],
   "source": [
    "def test_1():\n",
    "    ...\n",
    "    ...\n",
    "    ...\n",
    "    return ... / print(...)"
   ]
  },
  {
   "cell_type": "code",
   "execution_count": null,
   "id": "e5ef4e49",
   "metadata": {},
   "outputs": [],
   "source": [
    "test_1()"
   ]
  },
  {
   "cell_type": "code",
   "execution_count": null,
   "id": "94390a78",
   "metadata": {},
   "outputs": [],
   "source": [
    "def test_2(x,y,z):\n",
    "    ...\n",
    "    ...\n",
    "    ...\n",
    "    return ... / print(...)"
   ]
  },
  {
   "cell_type": "code",
   "execution_count": null,
   "id": "52348cf5",
   "metadata": {},
   "outputs": [],
   "source": [
    "test_2(20,45,0.2)"
   ]
  },
  {
   "cell_type": "markdown",
   "id": "3cd39696",
   "metadata": {},
   "source": [
    "For example, Python does not know what a square root of a number is.\n",
    "While we can always rely on the fact that $\\sqrt[n]{x} = x^{1/n}$, it might be useful to define a dedicated function that does the job.\n",
    "In this example, defining a function improves code readability."
   ]
  },
  {
   "cell_type": "code",
   "execution_count": 36,
   "id": "fbc29e77",
   "metadata": {},
   "outputs": [],
   "source": [
    "def sqrt(x):\n",
    "    return x ** (1/2)"
   ]
  },
  {
   "cell_type": "markdown",
   "id": "78610d2e",
   "metadata": {},
   "source": [
    "Here we defined the square-root function.\n",
    "As it is, this function works for all values of $x$, even negative ones (the result will be a complex number).\n",
    "\n",
    "Again, note that the `def` statement ends with a semicolon (`:`) and any code that belongs to the function is indented with respect to the line containing the keyword `def`."
   ]
  },
  {
   "cell_type": "code",
   "execution_count": 37,
   "id": "9d6e9810",
   "metadata": {},
   "outputs": [
    {
     "data": {
      "text/plain": [
       "1.4142135623730951"
      ]
     },
     "execution_count": 37,
     "metadata": {},
     "output_type": "execute_result"
    }
   ],
   "source": [
    "sqrt(2)"
   ]
  },
  {
   "cell_type": "markdown",
   "id": "d41929ef",
   "metadata": {},
   "source": [
    "An example of a slightly more sophisticated function is one that computes the real roots a (non-negative) number."
   ]
  },
  {
   "cell_type": "code",
   "execution_count": 45,
   "id": "4cc0dd5d",
   "metadata": {},
   "outputs": [],
   "source": [
    "def real_nth_root(x, n=2):\n",
    "    if x < 0:\n",
    "        raise ValueError('Root argument must be non-negetive!')\n",
    "    return x ** (1/n)"
   ]
  },
  {
   "cell_type": "markdown",
   "id": "7217f2da",
   "metadata": {},
   "source": [
    "This function performs the so-called _input validation_.\n",
    "To ensure that the result of $\\sqrt[n]{x}$ is a real number, we must ensure that $x$ is non-negative.\n",
    "We do this with an `if` clause and instructing Python to terminate the execution of the function with a `raise` command, which issues an error.\n",
    "Also, the function we defined takes two arguments: `x` and `n`.\n",
    "By specifying `n=2` in the `def` statement, we are saying that the default value of $n$ should be two, but the user can change that value arbitrarily."
   ]
  },
  {
   "cell_type": "code",
   "execution_count": 39,
   "id": "bfca64bd",
   "metadata": {},
   "outputs": [
    {
     "data": {
      "text/plain": [
       "1.4142135623730951"
      ]
     },
     "execution_count": 39,
     "metadata": {},
     "output_type": "execute_result"
    }
   ],
   "source": [
    "real_nth_root(2,2)"
   ]
  },
  {
   "cell_type": "code",
   "execution_count": 41,
   "id": "eb9099f9",
   "metadata": {},
   "outputs": [
    {
     "data": {
      "text/plain": [
       "5"
      ]
     },
     "execution_count": 41,
     "metadata": {},
     "output_type": "execute_result"
    }
   ],
   "source": [
    "round(real_nth_root(125,3))"
   ]
  },
  {
   "cell_type": "code",
   "execution_count": 43,
   "id": "ffd34704",
   "metadata": {},
   "outputs": [
    {
     "data": {
      "text/plain": [
       "3.0"
      ]
     },
     "execution_count": 43,
     "metadata": {},
     "output_type": "execute_result"
    }
   ],
   "source": [
    "real_nth_root(9)"
   ]
  },
  {
   "cell_type": "code",
   "execution_count": 44,
   "id": "7488a306",
   "metadata": {},
   "outputs": [
    {
     "data": {
      "text/plain": [
       "2.080083823051904"
      ]
     },
     "execution_count": 44,
     "metadata": {},
     "output_type": "execute_result"
    }
   ],
   "source": [
    "real_nth_root(9, 3)"
   ]
  },
  {
   "cell_type": "code",
   "execution_count": 46,
   "id": "e18b99dc",
   "metadata": {},
   "outputs": [
    {
     "ename": "ValueError",
     "evalue": "Root argument must be non-negetive!",
     "output_type": "error",
     "traceback": [
      "\u001b[0;31m---------------------------------------------------------------------------\u001b[0m",
      "\u001b[0;31mValueError\u001b[0m                                Traceback (most recent call last)",
      "Cell \u001b[0;32mIn[46], line 1\u001b[0m\n\u001b[0;32m----> 1\u001b[0m \u001b[43mreal_nth_root\u001b[49m\u001b[43m(\u001b[49m\u001b[38;5;241;43m-\u001b[39;49m\u001b[38;5;241;43m2\u001b[39;49m\u001b[43m)\u001b[49m\n",
      "Cell \u001b[0;32mIn[45], line 3\u001b[0m, in \u001b[0;36mreal_nth_root\u001b[0;34m(x, n)\u001b[0m\n\u001b[1;32m      1\u001b[0m \u001b[38;5;28;01mdef\u001b[39;00m \u001b[38;5;21mreal_nth_root\u001b[39m(x, n\u001b[38;5;241m=\u001b[39m\u001b[38;5;241m2\u001b[39m):\n\u001b[1;32m      2\u001b[0m     \u001b[38;5;28;01mif\u001b[39;00m x \u001b[38;5;241m<\u001b[39m \u001b[38;5;241m0\u001b[39m:\n\u001b[0;32m----> 3\u001b[0m         \u001b[38;5;28;01mraise\u001b[39;00m \u001b[38;5;167;01mValueError\u001b[39;00m(\u001b[38;5;124m'\u001b[39m\u001b[38;5;124mRoot argument must be non-negetive!\u001b[39m\u001b[38;5;124m'\u001b[39m)\n\u001b[1;32m      4\u001b[0m     \u001b[38;5;28;01mreturn\u001b[39;00m x \u001b[38;5;241m*\u001b[39m\u001b[38;5;241m*\u001b[39m (\u001b[38;5;241m1\u001b[39m\u001b[38;5;241m/\u001b[39mn)\n",
      "\u001b[0;31mValueError\u001b[0m: Root argument must be non-negetive!"
     ]
    }
   ],
   "source": [
    "real_nth_root(-2)"
   ]
  },
  {
   "cell_type": "markdown",
   "id": "82f14432",
   "metadata": {},
   "source": [
    "### 5.1.1 Other example"
   ]
  },
  {
   "cell_type": "code",
   "execution_count": 48,
   "id": "a4d0a382",
   "metadata": {},
   "outputs": [
    {
     "data": {
      "text/plain": [
       "int"
      ]
     },
     "execution_count": 48,
     "metadata": {},
     "output_type": "execute_result"
    }
   ],
   "source": [
    "type(123)"
   ]
  },
  {
   "cell_type": "code",
   "execution_count": 49,
   "id": "064a413d",
   "metadata": {},
   "outputs": [],
   "source": [
    "def mean3(x,y,z):\n",
    "    return (x+y+z) / 3"
   ]
  },
  {
   "cell_type": "code",
   "execution_count": 53,
   "id": "8c143607",
   "metadata": {},
   "outputs": [
    {
     "data": {
      "text/plain": [
       "37.0"
      ]
     },
     "execution_count": 53,
     "metadata": {},
     "output_type": "execute_result"
    }
   ],
   "source": [
    "mean3(34,65,12)"
   ]
  },
  {
   "cell_type": "code",
   "execution_count": 54,
   "id": "674aab56",
   "metadata": {},
   "outputs": [],
   "source": [
    "def price():\n",
    "    age = int(input('Enter your age: '))\n",
    "\n",
    "    if age < 4:\n",
    "        price = 0\n",
    "    elif age < 16:\n",
    "        price = 50\n",
    "    else:\n",
    "        price = 100\n",
    "        \n",
    "    print('Your cost is ${}.'.format(price))"
   ]
  },
  {
   "cell_type": "code",
   "execution_count": 55,
   "id": "e6e8c92c",
   "metadata": {},
   "outputs": [
    {
     "name": "stdout",
     "output_type": "stream",
     "text": [
      "Enter your age: 14\n",
      "Your cost is $50.\n"
     ]
    }
   ],
   "source": [
    "price()"
   ]
  },
  {
   "cell_type": "markdown",
   "id": "f4cf38e9",
   "metadata": {},
   "source": [
    "**Guess number**"
   ]
  },
  {
   "cell_type": "code",
   "execution_count": 69,
   "id": "cc291e9f",
   "metadata": {},
   "outputs": [],
   "source": [
    "import random\n",
    "cump_num = random.randint(1,100)\n",
    "#cump_num"
   ]
  },
  {
   "cell_type": "code",
   "execution_count": 64,
   "id": "36dd7baa",
   "metadata": {},
   "outputs": [],
   "source": [
    "def guess_number():\n",
    "    user_number = int(input('Enter your guess number: '))\n",
    "    \n",
    "    while user_number != cump_num:\n",
    "        if user_number > cump_num:\n",
    "            print('Enter the smaller one!')\n",
    "        else:\n",
    "        #elif user_number < cump_num:\n",
    "            print('Enter the bigger one!')\n",
    "        \n",
    "        user_number = int(input('Enter your guess number: '))\n",
    "    \n",
    "    \n",
    "    print(\"Well done!\")"
   ]
  },
  {
   "cell_type": "code",
   "execution_count": 70,
   "id": "2629b051",
   "metadata": {},
   "outputs": [
    {
     "name": "stdout",
     "output_type": "stream",
     "text": [
      "Enter your guess number: 50\n",
      "Enter the bigger one!\n",
      "Enter your guess number: 75\n",
      "Enter the smaller one!\n",
      "Enter your guess number: 65\n",
      "Enter the smaller one!\n",
      "Enter your guess number: 55\n",
      "Enter the smaller one!\n",
      "Enter your guess number: 52\n",
      "Well done!\n"
     ]
    }
   ],
   "source": [
    "guess_number()"
   ]
  },
  {
   "cell_type": "code",
   "execution_count": 71,
   "id": "2c520169",
   "metadata": {},
   "outputs": [],
   "source": [
    "# for practice, add limit!"
   ]
  },
  {
   "cell_type": "code",
   "execution_count": null,
   "id": "1b5e9a33",
   "metadata": {},
   "outputs": [],
   "source": []
  },
  {
   "cell_type": "code",
   "execution_count": null,
   "id": "3f5777b6",
   "metadata": {},
   "outputs": [],
   "source": []
  },
  {
   "cell_type": "markdown",
   "id": "eba9a50a",
   "metadata": {},
   "source": [
    "### 5.1.2 Diffrence between return and print"
   ]
  },
  {
   "cell_type": "code",
   "execution_count": 78,
   "id": "37f7cbdf",
   "metadata": {},
   "outputs": [
    {
     "name": "stdout",
     "output_type": "stream",
     "text": [
      "3\n",
      "5\n",
      "15\n"
     ]
    }
   ],
   "source": [
    "def fun1(x1):\n",
    "    print(x1 + 2)\n",
    "    \n",
    "def fun2(x1):\n",
    "    return x1 + 2\n",
    "\n",
    "x1 = 3\n",
    "\n",
    "print(x1)\n",
    "#print(fun1(x1))\n",
    "#print(fun1(x1) * 2)\n",
    "\n",
    "\n",
    "print(fun2(x1))\n",
    "print(fun2(x1) * 3)"
   ]
  },
  {
   "cell_type": "code",
   "execution_count": null,
   "id": "2c3d9259",
   "metadata": {},
   "outputs": [],
   "source": []
  },
  {
   "cell_type": "markdown",
   "id": "9a0fe74d",
   "metadata": {},
   "source": [
    "<font size=\"3\"><br>**Exercise:** <br>Write a program, which asks for initial value of investment ($k_0$) and for the interest rate ($r$). Use Function ($def$) to calculate capital after n years ($k_n$) <br>\n",
    "\n",
    " $$ k_n = k_0\\times(1 + r)^n $$"
   ]
  },
  {
   "cell_type": "code",
   "execution_count": 83,
   "id": "31c351ad",
   "metadata": {},
   "outputs": [
    {
     "name": "stdout",
     "output_type": "stream",
     "text": [
      "Your investment after 10 years is equals to 1238.347.\n"
     ]
    }
   ],
   "source": [
    "def capital(k_0, r, n):\n",
    "    k_n = k_0 * (1+r)**n\n",
    "    \n",
    "    print('Your investment after {} years is equals to {:0.3f}.'.format(n, k_n))\n",
    "capital(200, 0.2, 10)"
   ]
  },
  {
   "cell_type": "code",
   "execution_count": 85,
   "id": "8ba14868",
   "metadata": {},
   "outputs": [
    {
     "name": "stdout",
     "output_type": "stream",
     "text": [
      "Timeline: [200, 240, 288, 346, 415, 498, 597, 717, 860, 1032, 1238]\n",
      "Your investment after 10 years is equals to 1238.347.\n"
     ]
    }
   ],
   "source": [
    "def capital(k_0, r, n):\n",
    "    k_n = k_0 * (1+r)**n\n",
    "    \n",
    "    list_1 = []\n",
    "    for i in range(0, n+1):\n",
    "        k_n = k_0 * (1+r)**i\n",
    "        list_1.append(round(k_n))\n",
    "    \n",
    "    print('Timeline:', list_1)\n",
    "    print('Your investment after {} years is equals to {:0.3f}.'.format(n, k_n))\n",
    "capital(200, 0.2, 10)"
   ]
  },
  {
   "cell_type": "code",
   "execution_count": null,
   "id": "c4d8f34c",
   "metadata": {},
   "outputs": [],
   "source": []
  },
  {
   "cell_type": "markdown",
   "id": "403e20fe",
   "metadata": {},
   "source": [
    "## 5.2 Functions (Lambda)\n",
    "\n",
    "Finally, a quick-and-dirty way to define functions is by using `lambda` functions, which are also known as [anonymous functions](https://en.wikipedia.org/wiki/Anonymous_function).\n",
    "The inner workings of anonymous functions are quite complicated and we will not cover them.\n",
    "Here it should suffice to know that these functions are defined _in-line_, which means that we do not write a code block for them.\n",
    "Anonymous functions are useful for quick one-liners that do not require much work.\n",
    "\n",
    "We can re-define the function `sqrt` above as an anonymous function."
   ]
  },
  {
   "cell_type": "code",
   "execution_count": 86,
   "id": "5cd67e67",
   "metadata": {},
   "outputs": [],
   "source": [
    "root2 = lambda x : x ** (1/2)"
   ]
  },
  {
   "cell_type": "markdown",
   "id": "54b0af1e",
   "metadata": {},
   "source": [
    "The syntax is as follows.\n",
    "The function `root2` takes an argument `x`, which is indicated right after the keyword `lambda`.\n",
    "There is a semicolon following the statment, after which we find the main task performed by the function we defined."
   ]
  },
  {
   "cell_type": "code",
   "execution_count": 87,
   "id": "531b3c9b",
   "metadata": {},
   "outputs": [
    {
     "data": {
      "text/plain": [
       "1.4142135623730951"
      ]
     },
     "execution_count": 87,
     "metadata": {},
     "output_type": "execute_result"
    }
   ],
   "source": [
    "root2(2)"
   ]
  },
  {
   "cell_type": "markdown",
   "id": "676e22a5",
   "metadata": {},
   "source": [
    "### 5.2.1 Other example"
   ]
  },
  {
   "cell_type": "code",
   "execution_count": 88,
   "id": "3b3ae952",
   "metadata": {},
   "outputs": [],
   "source": [
    "m = lambda x, y, z: (x+y+z) / 3"
   ]
  },
  {
   "cell_type": "code",
   "execution_count": 89,
   "id": "18ac9e8b",
   "metadata": {},
   "outputs": [
    {
     "data": {
      "text/plain": [
       "10.0"
      ]
     },
     "execution_count": 89,
     "metadata": {},
     "output_type": "execute_result"
    }
   ],
   "source": [
    "m(12,43, -25)"
   ]
  },
  {
   "cell_type": "code",
   "execution_count": null,
   "id": "0f37a800",
   "metadata": {},
   "outputs": [],
   "source": []
  },
  {
   "cell_type": "markdown",
   "id": "816678fb",
   "metadata": {},
   "source": [
    "<br>**Exercise:** <br>Suppose a labor works H hours in a month and gets \\$16 per hour.<b>\n",
    "\n",
    "- (a) Write a function that calculates income.<br>\n",
    "\n",
    "- (b) Then, If we have a fixed tax of \\$200, how to change income?\n",
    "    \n",
    "- (c) How about if our tax rate is \\$1.5 per hour?\n",
    "\n",
    "- (d) Write a program (function) that gets a H as working hours and compare the situation, and say will this labor work or not? And with which tax system will he(she) earn more?"
   ]
  },
  {
   "cell_type": "code",
   "execution_count": 96,
   "id": "a9f26963",
   "metadata": {},
   "outputs": [
    {
     "name": "stdout",
     "output_type": "stream",
     "text": [
      "Enter hours work: 10\n",
      "Income without tax is: $160.0.\n",
      "Income with fix tax is: $-40.0.\n",
      "Income with tax rate is: $145.0.\n"
     ]
    }
   ],
   "source": [
    "def income():\n",
    "    h = float(input('Enter hours work: '))\n",
    "    fix_tax = 200\n",
    "    tax_rate = 1.5\n",
    "    \n",
    "    # without tax\n",
    "    income_0 = h * 16\n",
    "    \n",
    "    # fix tax\n",
    "    income_1 = income_0 - fix_tax\n",
    "    \n",
    "    # with tax rate\n",
    "    income_2 = h * 16 - h * tax_rate\n",
    "    #income_2 = h * (16 - tax_rate)\n",
    "    \n",
    "    print('Income without tax is: ${}.'.format(income_0))\n",
    "    print('Income with fix tax is: ${}.'.format(income_1))\n",
    "    print('Income with tax rate is: ${}.'.format(income_2))\n",
    "    \n",
    "\n",
    "income()"
   ]
  },
  {
   "cell_type": "code",
   "execution_count": 97,
   "id": "8267a5c3",
   "metadata": {},
   "outputs": [
    {
     "name": "stdout",
     "output_type": "stream",
     "text": [
      "Enter hours work: 10\n",
      "The labor never get this job!\n"
     ]
    }
   ],
   "source": [
    "def income():\n",
    "    h = float(input('Enter hours work: '))\n",
    "    fix_tax = 200\n",
    "    tax_rate = 1.5\n",
    "    \n",
    "    # without tax\n",
    "    income_0 = h * 16\n",
    "    \n",
    "    # fix tax\n",
    "    income_1 = income_0 - fix_tax\n",
    "    \n",
    "    # with tax rate\n",
    "    income_2 = h * 16 - h * tax_rate\n",
    "    #income_2 = h * (16 - tax_rate)\n",
    "    \n",
    "    if income_1 < 0:\n",
    "        print('The labor never get this job!')\n",
    "    else:    \n",
    "        print('Income without tax is: ${}.'.format(income_0))\n",
    "        print('Income with fix tax is: ${}.'.format(income_1))\n",
    "        print('Income with tax rate is: ${}.'.format(income_2))\n",
    "\n",
    "income()"
   ]
  },
  {
   "cell_type": "code",
   "execution_count": 101,
   "id": "ae085e8e",
   "metadata": {},
   "outputs": [
    {
     "name": "stdout",
     "output_type": "stream",
     "text": [
      "Enter hours work: 200\n",
      "Income without tax is: $3200.0.\n",
      "Income with fix tax is: $3000.0.\n",
      "Income with tax rate is: $2900.0.\n",
      "The better situation between fix tax and variable tax is FIX TAX\n"
     ]
    }
   ],
   "source": [
    "def income():\n",
    "    h = float(input('Enter hours work: '))\n",
    "    fix_tax = 200\n",
    "    tax_rate = 1.5\n",
    "    \n",
    "    # without tax\n",
    "    income_0 = h * 16\n",
    "    \n",
    "    # fix tax\n",
    "    income_1 = income_0 - fix_tax\n",
    "    \n",
    "    # with tax rate\n",
    "    income_2 = h * 16 - h * tax_rate\n",
    "    #income_2 = h * (16 - tax_rate)\n",
    "    \n",
    "    if income_1 < 0:\n",
    "        print('The labor never get this job!')\n",
    "    else:  \n",
    "        print('Income without tax is: ${}.'.format(income_0))\n",
    "        print('Income with fix tax is: ${}.'.format(income_1))\n",
    "        print('Income with tax rate is: ${}.'.format(income_2))\n",
    "        \n",
    "        if income_1 > income_2:\n",
    "            h = 'fix tax'\n",
    "        else:\n",
    "            h = 'variable tax'\n",
    "        \n",
    "        print('The better situation between fix tax and variable tax is', h.upper())\n",
    "\n",
    "income()"
   ]
  },
  {
   "cell_type": "code",
   "execution_count": null,
   "id": "ab025a2c",
   "metadata": {},
   "outputs": [],
   "source": []
  }
 ],
 "metadata": {
  "kernelspec": {
   "display_name": "Python 3 (ipykernel)",
   "language": "python",
   "name": "python3"
  },
  "language_info": {
   "codemirror_mode": {
    "name": "ipython",
    "version": 3
   },
   "file_extension": ".py",
   "mimetype": "text/x-python",
   "name": "python",
   "nbconvert_exporter": "python",
   "pygments_lexer": "ipython3",
   "version": "3.13.0"
  }
 },
 "nbformat": 4,
 "nbformat_minor": 5
}
